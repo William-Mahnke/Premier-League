{
 "cells": [
  {
   "cell_type": "markdown",
   "id": "e9d15125",
   "metadata": {},
   "source": [
    "# Pulling Team Statistics for Comparison \n",
    "\n",
    "Using Football-API, I'll be pulling data about team statistics to create a Tableau dashboard comparing two teams' season statistics "
   ]
  }
 ],
 "metadata": {
  "kernelspec": {
   "display_name": "Python 3",
   "language": "python",
   "name": "python3"
  },
  "language_info": {
   "name": "python",
   "version": "3.12.7"
  }
 },
 "nbformat": 4,
 "nbformat_minor": 5
}
