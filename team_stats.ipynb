{
 "cells": [
  {
   "cell_type": "markdown",
   "id": "e9d15125",
   "metadata": {},
   "source": [
    "# Pulling Team Statistics for Comparison \n",
    "\n",
    "Using Football-API, I'll be pulling data about team statistics to create a Tableau dashboard comparing two teams' season statistics. Since I'm starting on the free plan, only team statistics from the 2021, 2022, and 2023 seasons can be pulled. The purpose for this notebook is using the API to pull data and transform it into a pandas dataframe to be exported for Tableau use (in a xlsx file or csv file to be determined in the future). "
   ]
  },
  {
   "cell_type": "code",
   "execution_count": 1,
   "id": "52df4bb7",
   "metadata": {},
   "outputs": [],
   "source": [
    "# importing libraries\n",
    "import requests\n",
    "import numpy as np\n",
    "import pandas as pd"
   ]
  },
  {
   "cell_type": "markdown",
   "id": "721b3f6b",
   "metadata": {},
   "source": [
    "To start I'll be pulling team statistics from the Premier League during the 2021-2022 season (aka the 2021 season). Thus during the API requests the parameters to add will be `league=39` (the league id for the English Premier League), `season=2021` (trivial), and `team=___` depending on what the team's id number is (which can be found in the API dashboard)."
   ]
  },
  {
   "cell_type": "code",
   "execution_count": null,
   "id": "343cbf85",
   "metadata": {},
   "outputs": [],
   "source": [
    "# code chunk for the API request\n",
    "# the documentation for Football-API recommends using this endpoint only once a week for each team\n",
    "url = \"https://v3.football.api-sports.io/countries\"\n",
    "\n",
    "payload = {}\n",
    "headers = {\n",
    "  'x-rapidapi-key': '01914987bf14c6a4b868a79dfe489f07',\n",
    "  'x-rapidapi-host': 'v3.football.api-sports.io'\n",
    "}\n",
    "\n",
    "response = requests.request(\"GET\", url, headers = headers, data = payload)\n",
    "\n",
    "print(response.json())"
   ]
  }
 ],
 "metadata": {
  "kernelspec": {
   "display_name": "Python 3",
   "language": "python",
   "name": "python3"
  },
  "language_info": {
   "codemirror_mode": {
    "name": "ipython",
    "version": 3
   },
   "file_extension": ".py",
   "mimetype": "text/x-python",
   "name": "python",
   "nbconvert_exporter": "python",
   "pygments_lexer": "ipython3",
   "version": "3.12.7"
  }
 },
 "nbformat": 4,
 "nbformat_minor": 5
}
