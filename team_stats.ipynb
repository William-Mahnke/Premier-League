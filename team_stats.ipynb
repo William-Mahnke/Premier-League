{
 "cells": [
  {
   "cell_type": "markdown",
   "id": "e9d15125",
   "metadata": {},
   "source": [
    "# Pulling Team Statistics for Comparison \n",
    "\n",
    "Using Football-API, I'll be pulling data about team statistics to create a Tableau dashboard comparing two teams' season statistics. Since I'm starting on the free plan, only team statistics from the 2021, 2022, and 2023 seasons can be pulled. The purpose for this notebook is using the API to pull data and transform it into a pandas dataframe to be exported for Tableau use (in a xlsx file or csv file to be determined in the future). "
   ]
  },
  {
   "cell_type": "code",
   "execution_count": 2,
   "id": "52df4bb7",
   "metadata": {},
   "outputs": [],
   "source": [
    "# importing libraries\n",
    "import requests\n",
    "import numpy as np\n",
    "import pandas as pd"
   ]
  },
  {
   "cell_type": "markdown",
   "id": "721b3f6b",
   "metadata": {},
   "source": [
    "To start I'll be pulling team statistics from the Premier League during the 2021-2022 season (aka the 2021 season). Thus during the API requests the parameters to add will be `league=39` (the league id for the English Premier League), `season=2021` (trivial), and `team=___` depending on what the team's id number is (which can be found in the API dashboard)."
   ]
  },
  {
   "cell_type": "markdown",
   "id": "1f8cc6fa",
   "metadata": {},
   "source": [
    "Teams & Codes for PL 2021-2022 (in order of final standings):\n",
    "* Man City: 50\n",
    "* Liverpool: 40\n",
    "* Chelsea: 49\n",
    "* Tottenham: 47\n",
    "* Arsenal: 42\n",
    "* Man United: 33\n",
    "* West Ham: 48\n",
    "* Leicester City: 46\n",
    "* Brighton: 51\n",
    "* Wolves: 39\n",
    "* Newcastle: 34\n",
    "* Crystal Palace: 52 \n",
    "* Brentford: 55\n",
    "* Aston Villa: 66\n",
    "* Southampton: 41\n",
    "* Everton: 45\n",
    "* Leeds United: 63 \n",
    "* Burnley: 44\n",
    "* Watford: 38\n",
    "* Norwich City: 71"
   ]
  },
  {
   "cell_type": "code",
   "execution_count": 3,
   "id": "343cbf85",
   "metadata": {},
   "outputs": [
    {
     "name": "stdout",
     "output_type": "stream",
     "text": [
      "{'get': 'teams/statistics', 'parameters': {'league': '39', 'season': '2021', 'team': '50'}, 'errors': [], 'results': 11, 'paging': {'current': 1, 'total': 1}, 'response': {'league': {'id': 39, 'name': 'Premier League', 'country': 'England', 'logo': 'https://media.api-sports.io/football/leagues/39.png', 'flag': 'https://media.api-sports.io/flags/gb-eng.svg', 'season': 2021}, 'team': {'id': 50, 'name': 'Manchester City', 'logo': 'https://media.api-sports.io/football/teams/50.png'}, 'form': 'LWWWDWDWWLWWWWWWWWWWWWDWWLWWDWDWWWWWDW', 'fixtures': {'played': {'home': 19, 'away': 19, 'total': 38}, 'wins': {'home': 15, 'away': 14, 'total': 29}, 'draws': {'home': 2, 'away': 4, 'total': 6}, 'loses': {'home': 2, 'away': 1, 'total': 3}}, 'goals': {'for': {'total': {'home': 58, 'away': 41, 'total': 99}, 'average': {'home': '3.1', 'away': '2.2', 'total': '2.6'}, 'minute': {'0-15': {'total': 16, 'percentage': '16.67%'}, '16-30': {'total': 13, 'percentage': '13.54%'}, '31-45': {'total': 14, 'percentage': '14.58%'}, '46-60': {'total': 12, 'percentage': '12.50%'}, '61-75': {'total': 18, 'percentage': '18.75%'}, '76-90': {'total': 17, 'percentage': '17.71%'}, '91-105': {'total': 6, 'percentage': '6.25%'}, '106-120': {'total': None, 'percentage': None}}, 'under_over': {'0.5': {'over': 34, 'under': 4}, '1.5': {'over': 27, 'under': 11}, '2.5': {'over': 16, 'under': 22}, '3.5': {'over': 12, 'under': 26}, '4.5': {'over': 7, 'under': 31}}}, 'against': {'total': {'home': 15, 'away': 11, 'total': 26}, 'average': {'home': '0.8', 'away': '0.6', 'total': '0.7'}, 'minute': {'0-15': {'total': 7, 'percentage': '24.14%'}, '16-30': {'total': 3, 'percentage': '10.34%'}, '31-45': {'total': 3, 'percentage': '10.34%'}, '46-60': {'total': 7, 'percentage': '24.14%'}, '61-75': {'total': 4, 'percentage': '13.79%'}, '76-90': {'total': 3, 'percentage': '10.34%'}, '91-105': {'total': 2, 'percentage': '6.90%'}, '106-120': {'total': None, 'percentage': None}}, 'under_over': {'0.5': {'over': 17, 'under': 21}, '1.5': {'over': 7, 'under': 31}, '2.5': {'over': 2, 'under': 36}, '3.5': {'over': 0, 'under': 38}, '4.5': {'over': 0, 'under': 38}}}}, 'biggest': {'streak': {'wins': 12, 'draws': 1, 'loses': 1}, 'wins': {'home': '7-0', 'away': '1-5'}, 'loses': {'home': '0-2', 'away': '1-0'}, 'goals': {'for': {'home': 7, 'away': 5}, 'against': {'home': 3, 'away': 2}}}, 'clean_sheet': {'home': 11, 'away': 10, 'total': 21}, 'failed_to_score': {'home': 2, 'away': 2, 'total': 4}, 'penalty': {'scored': {'total': 7, 'percentage': '100.00%'}, 'missed': {'total': 0, 'percentage': '0%'}, 'total': 7}, 'lineups': [{'formation': '4-3-3', 'played': 28}, {'formation': '4-2-3-1', 'played': 10}], 'cards': {'yellow': {'0-15': {'total': 1, 'percentage': '2.38%'}, '16-30': {'total': 7, 'percentage': '16.67%'}, '31-45': {'total': 7, 'percentage': '16.67%'}, '46-60': {'total': 9, 'percentage': '21.43%'}, '61-75': {'total': 5, 'percentage': '11.90%'}, '76-90': {'total': 6, 'percentage': '14.29%'}, '91-105': {'total': 7, 'percentage': '16.67%'}, '106-120': {'total': None, 'percentage': None}}, 'red': {'0-15': {'total': None, 'percentage': None}, '16-30': {'total': None, 'percentage': None}, '31-45': {'total': None, 'percentage': None}, '46-60': {'total': 1, 'percentage': '100.00%'}, '61-75': {'total': None, 'percentage': None}, '76-90': {'total': None, 'percentage': None}, '91-105': {'total': None, 'percentage': None}, '106-120': {'total': None, 'percentage': None}}}}}\n"
     ]
    }
   ],
   "source": [
    "# code chunk for the API request\n",
    "# the documentation for Football-API recommends using this endpoint only once a week for each team\n",
    "url = \"https://v3.football.api-sports.io/teams/statistics?league=39&season=2021&team=50\"\n",
    "\n",
    "payload = {}\n",
    "headers = {\n",
    "  'x-rapidapi-key': '01914987bf14c6a4b868a79dfe489f07',\n",
    "  'x-rapidapi-host': 'v3.football.api-sports.io'\n",
    "}\n",
    "\n",
    "response = requests.request(\"GET\", url, headers = headers, data = payload)\n",
    "\n",
    "print(response.json())"
   ]
  },
  {
   "cell_type": "markdown",
   "id": "c4fb038d",
   "metadata": {},
   "source": [
    "## Processing Data\n",
    "\n",
    "This section is using Man City's data to experiment and test how to create function to process the rest of the data. Using the nested dictionaries in response's json file, we'll pull the `response` key from the dictionary and transform the necessary information into a pandas dataframe. The variable names for each value will be gross but the objective of this section is creating the process for storing each variable."
   ]
  },
  {
   "cell_type": "code",
   "execution_count": null,
   "id": "3bb07cc1",
   "metadata": {},
   "outputs": [
    {
     "data": {
      "text/plain": [
       "{'league': {'id': 39,\n",
       "  'name': 'Premier League',\n",
       "  'country': 'England',\n",
       "  'logo': 'https://media.api-sports.io/football/leagues/39.png',\n",
       "  'flag': 'https://media.api-sports.io/flags/gb-eng.svg',\n",
       "  'season': 2021},\n",
       " 'team': {'id': 50,\n",
       "  'name': 'Manchester City',\n",
       "  'logo': 'https://media.api-sports.io/football/teams/50.png'},\n",
       " 'form': 'LWWWDWDWWLWWWWWWWWWWWWDWWLWWDWDWWWWWDW',\n",
       " 'fixtures': {'played': {'home': 19, 'away': 19, 'total': 38},\n",
       "  'wins': {'home': 15, 'away': 14, 'total': 29},\n",
       "  'draws': {'home': 2, 'away': 4, 'total': 6},\n",
       "  'loses': {'home': 2, 'away': 1, 'total': 3}},\n",
       " 'goals': {'for': {'total': {'home': 58, 'away': 41, 'total': 99},\n",
       "   'average': {'home': '3.1', 'away': '2.2', 'total': '2.6'},\n",
       "   'minute': {'0-15': {'total': 16, 'percentage': '16.67%'},\n",
       "    '16-30': {'total': 13, 'percentage': '13.54%'},\n",
       "    '31-45': {'total': 14, 'percentage': '14.58%'},\n",
       "    '46-60': {'total': 12, 'percentage': '12.50%'},\n",
       "    '61-75': {'total': 18, 'percentage': '18.75%'},\n",
       "    '76-90': {'total': 17, 'percentage': '17.71%'},\n",
       "    '91-105': {'total': 6, 'percentage': '6.25%'},\n",
       "    '106-120': {'total': None, 'percentage': None}},\n",
       "   'under_over': {'0.5': {'over': 34, 'under': 4},\n",
       "    '1.5': {'over': 27, 'under': 11},\n",
       "    '2.5': {'over': 16, 'under': 22},\n",
       "    '3.5': {'over': 12, 'under': 26},\n",
       "    '4.5': {'over': 7, 'under': 31}}},\n",
       "  'against': {'total': {'home': 15, 'away': 11, 'total': 26},\n",
       "   'average': {'home': '0.8', 'away': '0.6', 'total': '0.7'},\n",
       "   'minute': {'0-15': {'total': 7, 'percentage': '24.14%'},\n",
       "    '16-30': {'total': 3, 'percentage': '10.34%'},\n",
       "    '31-45': {'total': 3, 'percentage': '10.34%'},\n",
       "    '46-60': {'total': 7, 'percentage': '24.14%'},\n",
       "    '61-75': {'total': 4, 'percentage': '13.79%'},\n",
       "    '76-90': {'total': 3, 'percentage': '10.34%'},\n",
       "    '91-105': {'total': 2, 'percentage': '6.90%'},\n",
       "    '106-120': {'total': None, 'percentage': None}},\n",
       "   'under_over': {'0.5': {'over': 17, 'under': 21},\n",
       "    '1.5': {'over': 7, 'under': 31},\n",
       "    '2.5': {'over': 2, 'under': 36},\n",
       "    '3.5': {'over': 0, 'under': 38},\n",
       "    '4.5': {'over': 0, 'under': 38}}}},\n",
       " 'biggest': {'streak': {'wins': 12, 'draws': 1, 'loses': 1},\n",
       "  'wins': {'home': '7-0', 'away': '1-5'},\n",
       "  'loses': {'home': '0-2', 'away': '1-0'},\n",
       "  'goals': {'for': {'home': 7, 'away': 5}, 'against': {'home': 3, 'away': 2}}},\n",
       " 'clean_sheet': {'home': 11, 'away': 10, 'total': 21},\n",
       " 'failed_to_score': {'home': 2, 'away': 2, 'total': 4},\n",
       " 'penalty': {'scored': {'total': 7, 'percentage': '100.00%'},\n",
       "  'missed': {'total': 0, 'percentage': '0%'},\n",
       "  'total': 7},\n",
       " 'lineups': [{'formation': '4-3-3', 'played': 28},\n",
       "  {'formation': '4-2-3-1', 'played': 10}],\n",
       " 'cards': {'yellow': {'0-15': {'total': 1, 'percentage': '2.38%'},\n",
       "   '16-30': {'total': 7, 'percentage': '16.67%'},\n",
       "   '31-45': {'total': 7, 'percentage': '16.67%'},\n",
       "   '46-60': {'total': 9, 'percentage': '21.43%'},\n",
       "   '61-75': {'total': 5, 'percentage': '11.90%'},\n",
       "   '76-90': {'total': 6, 'percentage': '14.29%'},\n",
       "   '91-105': {'total': 7, 'percentage': '16.67%'},\n",
       "   '106-120': {'total': None, 'percentage': None}},\n",
       "  'red': {'0-15': {'total': None, 'percentage': None},\n",
       "   '16-30': {'total': None, 'percentage': None},\n",
       "   '31-45': {'total': None, 'percentage': None},\n",
       "   '46-60': {'total': 1, 'percentage': '100.00%'},\n",
       "   '61-75': {'total': None, 'percentage': None},\n",
       "   '76-90': {'total': None, 'percentage': None},\n",
       "   '91-105': {'total': None, 'percentage': None},\n",
       "   '106-120': {'total': None, 'percentage': None}}}}"
      ]
     },
     "execution_count": 5,
     "metadata": {},
     "output_type": "execute_result"
    }
   ],
   "source": [
    "# store response in man_city_response to save data in a different variable not tied\n",
    "# to the code block being reused for API calls\n",
    "# since the request was successful (code 200), man_city_response will be the json from \n",
    "# the successful the request to reduce navigating the request itself\n",
    "man_city_response = response.json()\n",
    "\n",
    "# json response is a bunch of nested dictionaries, so next we'll look at just the response key\n",
    "# which contains all of the information needed\n",
    "# NOTE: the results key for the original json response has the number of tabs in the response\n",
    "# For each of these team responses there should be 11 sections:\n",
    "# league (dict), team (dict), form (str), fixtures (dict), goals (dict), biggest (dict), \n",
    "# clean_sheet (dict), failed_to_score (dict), lineups (list), penalty (dict), and cards (dict)\n",
    "man_city = man_city_response['response']\n",
    "\n",
    "# display response portion (man_city variable)\n",
    "man_city"
   ]
  },
  {
   "cell_type": "markdown",
   "id": "978a0fc9",
   "metadata": {},
   "source": [
    "### Developing Function using Man City information (testing phase)"
   ]
  },
  {
   "cell_type": "markdown",
   "id": "7d7be909",
   "metadata": {},
   "source": [
    "This section will be a little tedious. It will focus on navigating every tab of the response dictionary and storing each (eventual) column of the resulting dataframe in it's own variable. This will serve as a reference for creating a function to process each response (from other teams) into the same format, a row for the eventual combined dataframe."
   ]
  },
  {
   "cell_type": "markdown",
   "id": "ec10c80a",
   "metadata": {},
   "source": [
    "#### League Tab"
   ]
  },
  {
   "cell_type": "code",
   "execution_count": 19,
   "id": "a76fa674",
   "metadata": {},
   "outputs": [
    {
     "data": {
      "text/plain": [
       "{'id': 39,\n",
       " 'name': 'Premier League',\n",
       " 'country': 'England',\n",
       " 'logo': 'https://media.api-sports.io/football/leagues/39.png',\n",
       " 'flag': 'https://media.api-sports.io/flags/gb-eng.svg',\n",
       " 'season': 2021}"
      ]
     },
     "execution_count": 19,
     "metadata": {},
     "output_type": "execute_result"
    }
   ],
   "source": [
    "# get league tab\n",
    "league = man_city['league']\n",
    "\n",
    "# display league dict\n",
    "league"
   ]
  },
  {
   "cell_type": "markdown",
   "id": "2e692b08",
   "metadata": {},
   "source": [
    "This league tab should be the same for each team. Thus the only reason we might reference this tab in the future is when we combine data across multiple seasons into one file for Tableau. But until then, there's no variables which need to be stored to add to the final dataframe."
   ]
  },
  {
   "cell_type": "markdown",
   "id": "be67d420",
   "metadata": {},
   "source": [
    "#### Team"
   ]
  },
  {
   "cell_type": "code",
   "execution_count": 20,
   "id": "2ef961d6",
   "metadata": {},
   "outputs": [
    {
     "data": {
      "text/plain": [
       "{'id': 50,\n",
       " 'name': 'Manchester City',\n",
       " 'logo': 'https://media.api-sports.io/football/teams/50.png'}"
      ]
     },
     "execution_count": 20,
     "metadata": {},
     "output_type": "execute_result"
    }
   ],
   "source": [
    "# get team tab\n",
    "team = man_city['team']\n",
    "\n",
    "# show dict\n",
    "team"
   ]
  },
  {
   "cell_type": "markdown",
   "id": "b7ffa38c",
   "metadata": {},
   "source": [
    "Storing the team name and the url for the team's logo will be important for the resulting tableau dashboard. Although the team id number might not be necessary, we'll include it in the dataframe in case it's a useful key for combining tables in the future."
   ]
  },
  {
   "cell_type": "code",
   "execution_count": 21,
   "id": "5766e337",
   "metadata": {},
   "outputs": [],
   "source": [
    "# storing id, name, and logo url\n",
    "id = team['id'] # int\n",
    "name = team['name'] # str\n",
    "logo = team['logo'] # str"
   ]
  },
  {
   "cell_type": "markdown",
   "id": "d37e093f",
   "metadata": {},
   "source": [
    "#### Form\n",
    "\n",
    "The form tab (using tab to refer to each key in the original response dictionary) is the only one which isn't a dictionary itself. The form of the team could be a fun feature to include later and storing the value (string) is easy so we'll include it in the dataframe."
   ]
  },
  {
   "cell_type": "code",
   "execution_count": 17,
   "id": "eaef0783",
   "metadata": {},
   "outputs": [],
   "source": [
    "# store form \n",
    "form = man_city['form'] # str"
   ]
  },
  {
   "cell_type": "markdown",
   "id": "bbba5c85",
   "metadata": {},
   "source": [
    "#### Fixtures \n",
    "\n",
    "The fixtures tab include the wins, losses, and ties for the team broken down into home, away, and the total. **IMPORTANT** when developing the function, it will important to check each team plays 19 games at home and 19 games away (the standard for each PL season). Since including the home and away breakdown for the record might be a good addition for team comparisons, we'll include the breakdowns of the records in the dataframe."
   ]
  },
  {
   "cell_type": "code",
   "execution_count": 18,
   "id": "262937bd",
   "metadata": {},
   "outputs": [
    {
     "data": {
      "text/plain": [
       "{'played': {'home': 19, 'away': 19, 'total': 38},\n",
       " 'wins': {'home': 15, 'away': 14, 'total': 29},\n",
       " 'draws': {'home': 2, 'away': 4, 'total': 6},\n",
       " 'loses': {'home': 2, 'away': 1, 'total': 3}}"
      ]
     },
     "execution_count": 18,
     "metadata": {},
     "output_type": "execute_result"
    }
   ],
   "source": [
    "# get fixtures tab\n",
    "fixtures = man_city['fixtures']\n",
    "\n",
    "# display dict\n",
    "fixtures"
   ]
  },
  {
   "cell_type": "code",
   "execution_count": 26,
   "id": "811de349",
   "metadata": {},
   "outputs": [],
   "source": [
    "# checking team has 19 home games, 19 away games, and 38 total games\n",
    "# store values first (so code is neater)\n",
    "home_games = fixtures['played']['home']\n",
    "away_games = fixtures['played']['away']\n",
    "total_games = fixtures['played']['total']\n",
    "\n",
    "if home_games != 19 | away_games != 19 | total_games != 38:\n",
    "    raise Exception(\"Discrepancy in matches played for team\")\n",
    "\n",
    "# if nothing wrong, proceed with storing variables\n",
    "# wins\n",
    "home_wins = fixtures['wins']['home']\n",
    "away_wins = fixtures['wins']['away']\n",
    "wins = fixtures['wins']['total']\n",
    "# draws\n",
    "home_draws = fixtures['draws']['home']\n",
    "away_draws = fixtures['draws']['away']\n",
    "draws = fixtures['draws']['total']\n",
    "# losses\n",
    "home_losses = fixtures['loses']['home']\n",
    "away_losses = fixtures['loses']['away']\n",
    "losses = fixtures['loses']['total']"
   ]
  },
  {
   "cell_type": "markdown",
   "id": "26936804",
   "metadata": {},
   "source": [
    "#### Goals\n",
    "\n",
    "The goals tab features two main subdirectories, for and against which are also broken down into home, away, and total. Just like the fixture results, storing values for home, away, and total for both subdirectories could be an interesting addition for the dashboard (as well as the averages). Within each subdirectory are two sections for the minute breakdown for the team's goals (0-15, 16-30, etc) and the under_over which is home many games the team score over and under certain thresholds (0.5, 1.5, etc). These would be interesting to include in the dashboard but will be considered later."
   ]
  },
  {
   "cell_type": "code",
   "execution_count": 24,
   "id": "2adfa7be",
   "metadata": {},
   "outputs": [
    {
     "data": {
      "text/plain": [
       "{'for': {'total': {'home': 58, 'away': 41, 'total': 99},\n",
       "  'average': {'home': '3.1', 'away': '2.2', 'total': '2.6'},\n",
       "  'minute': {'0-15': {'total': 16, 'percentage': '16.67%'},\n",
       "   '16-30': {'total': 13, 'percentage': '13.54%'},\n",
       "   '31-45': {'total': 14, 'percentage': '14.58%'},\n",
       "   '46-60': {'total': 12, 'percentage': '12.50%'},\n",
       "   '61-75': {'total': 18, 'percentage': '18.75%'},\n",
       "   '76-90': {'total': 17, 'percentage': '17.71%'},\n",
       "   '91-105': {'total': 6, 'percentage': '6.25%'},\n",
       "   '106-120': {'total': None, 'percentage': None}},\n",
       "  'under_over': {'0.5': {'over': 34, 'under': 4},\n",
       "   '1.5': {'over': 27, 'under': 11},\n",
       "   '2.5': {'over': 16, 'under': 22},\n",
       "   '3.5': {'over': 12, 'under': 26},\n",
       "   '4.5': {'over': 7, 'under': 31}}},\n",
       " 'against': {'total': {'home': 15, 'away': 11, 'total': 26},\n",
       "  'average': {'home': '0.8', 'away': '0.6', 'total': '0.7'},\n",
       "  'minute': {'0-15': {'total': 7, 'percentage': '24.14%'},\n",
       "   '16-30': {'total': 3, 'percentage': '10.34%'},\n",
       "   '31-45': {'total': 3, 'percentage': '10.34%'},\n",
       "   '46-60': {'total': 7, 'percentage': '24.14%'},\n",
       "   '61-75': {'total': 4, 'percentage': '13.79%'},\n",
       "   '76-90': {'total': 3, 'percentage': '10.34%'},\n",
       "   '91-105': {'total': 2, 'percentage': '6.90%'},\n",
       "   '106-120': {'total': None, 'percentage': None}},\n",
       "  'under_over': {'0.5': {'over': 17, 'under': 21},\n",
       "   '1.5': {'over': 7, 'under': 31},\n",
       "   '2.5': {'over': 2, 'under': 36},\n",
       "   '3.5': {'over': 0, 'under': 38},\n",
       "   '4.5': {'over': 0, 'under': 38}}}}"
      ]
     },
     "execution_count": 24,
     "metadata": {},
     "output_type": "execute_result"
    }
   ],
   "source": [
    "# get goals tab\n",
    "goals = man_city['goals']\n",
    "\n",
    "# show dict\n",
    "goals"
   ]
  },
  {
   "cell_type": "code",
   "execution_count": 37,
   "id": "deac3995",
   "metadata": {},
   "outputs": [
    {
     "data": {
      "text/plain": [
       "{'total': {'home': 58, 'away': 41, 'total': 99},\n",
       " 'average': {'home': '3.1', 'away': '2.2', 'total': '2.6'},\n",
       " 'minute': {'0-15': {'total': 16, 'percentage': '16.67%'},\n",
       "  '16-30': {'total': 13, 'percentage': '13.54%'},\n",
       "  '31-45': {'total': 14, 'percentage': '14.58%'},\n",
       "  '46-60': {'total': 12, 'percentage': '12.50%'},\n",
       "  '61-75': {'total': 18, 'percentage': '18.75%'},\n",
       "  '76-90': {'total': 17, 'percentage': '17.71%'},\n",
       "  '91-105': {'total': 6, 'percentage': '6.25%'},\n",
       "  '106-120': {'total': None, 'percentage': None}},\n",
       " 'under_over': {'0.5': {'over': 34, 'under': 4},\n",
       "  '1.5': {'over': 27, 'under': 11},\n",
       "  '2.5': {'over': 16, 'under': 22},\n",
       "  '3.5': {'over': 12, 'under': 26},\n",
       "  '4.5': {'over': 7, 'under': 31}}}"
      ]
     },
     "execution_count": 37,
     "metadata": {},
     "output_type": "execute_result"
    }
   ],
   "source": [
    "# extract subdirectories for and against\n",
    "goals_for = goals['for']\n",
    "goals_against = goals['against']\n",
    "\n",
    "# show goals_for to see format (subdirectories are organized the same)\n",
    "goals_for"
   ]
  },
  {
   "cell_type": "code",
   "execution_count": 45,
   "id": "c9f4625e",
   "metadata": {},
   "outputs": [],
   "source": [
    "# store values\n",
    "# goals for\n",
    "# tallies\n",
    "goals_for_home = goals_for['total']['home']\n",
    "goals_for_away = goals_for['total']['away']\n",
    "goals_for_total = goals_for['total']['total']\n",
    "# averages (have to convert to float since they're stored as strings)\n",
    "goals_home_avg = float(goals_for['average']['home'])\n",
    "goals_away_avg = float(goals_for['average']['away'])\n",
    "goals_avg = float(goals_for['average']['total'])\n",
    "\n",
    "# goals against\n",
    "# tallies\n",
    "goals_against_home = goals_against['total']['home']\n",
    "goals_against_away = goals_against['total']['away']\n",
    "goals_against_total = goals_against['total']['total']\n",
    "# averages (also converted to floats)\n",
    "against_home_avg = float(goals_against['average']['home'])\n",
    "against_away_avg = float(goals_against['average']['away'])\n",
    "against_avg = float(goals_against['average']['total'])\n"
   ]
  },
  {
   "cell_type": "markdown",
   "id": "6bc242fc",
   "metadata": {},
   "source": [
    "#### Biggest \n",
    "\n",
    "This tab features the best statistical performances from the team during the season. These stats might be interesting to include later but for now we'll ignore them. "
   ]
  },
  {
   "cell_type": "markdown",
   "id": "82f3d941",
   "metadata": {},
   "source": [
    "#### Clean Sheets\n",
    "\n",
    "The clean sheets tab is just one dictionary with the home, away, and total clean sheets for the season. Just like fixtures and goals, we'll store each value."
   ]
  },
  {
   "cell_type": "code",
   "execution_count": 40,
   "id": "274a20f4",
   "metadata": {},
   "outputs": [
    {
     "data": {
      "text/plain": [
       "{'home': 11, 'away': 10, 'total': 21}"
      ]
     },
     "execution_count": 40,
     "metadata": {},
     "output_type": "execute_result"
    }
   ],
   "source": [
    "# get clean sheets tab\n",
    "clean_sheets = man_city['clean_sheet']\n",
    "\n",
    "# display dictionary\n",
    "clean_sheets"
   ]
  },
  {
   "cell_type": "code",
   "execution_count": 41,
   "id": "bb4662a9",
   "metadata": {},
   "outputs": [],
   "source": [
    "# store values\n",
    "clean_sheets_home = clean_sheets['home']\n",
    "clean_sheets_away = clean_sheets['away']\n",
    "clean_sheets_total = clean_sheets['total']"
   ]
  },
  {
   "cell_type": "markdown",
   "id": "b1a21344",
   "metadata": {},
   "source": [
    "#### Failed to Score\n",
    "\n",
    "This tab is the opposite of clean sheets, when the team fails to score during a match. While the stat isn't as popular as clean sheets, the tab's structure is identical to clean sheets so storing the values is easy."
   ]
  },
  {
   "cell_type": "code",
   "execution_count": 42,
   "id": "c19d0ed4",
   "metadata": {},
   "outputs": [
    {
     "data": {
      "text/plain": [
       "{'home': 2, 'away': 2, 'total': 4}"
      ]
     },
     "execution_count": 42,
     "metadata": {},
     "output_type": "execute_result"
    }
   ],
   "source": [
    "# get failed to score tab\n",
    "failed_scoring = man_city['failed_to_score']\n",
    "\n",
    "# show dict\n",
    "failed_scoring"
   ]
  },
  {
   "cell_type": "code",
   "execution_count": 43,
   "id": "c1ba6c80",
   "metadata": {},
   "outputs": [],
   "source": [
    "# store values\n",
    "failed_home = failed_scoring['home']\n",
    "failed_away = failed_scoring['away']\n",
    "failed_total = failed_scoring['total']"
   ]
  },
  {
   "cell_type": "markdown",
   "id": "e00bb859",
   "metadata": {},
   "source": [
    "#### Penalty\n",
    "\n",
    "The penalty tab has two subdirectories and \"total\", the total number of penalties the team got in the season. We'll store the number of total penalties, their conversion record (scored and missed), and the percentages (jic they're useful in the dashboard)."
   ]
  },
  {
   "cell_type": "code",
   "execution_count": 44,
   "id": "81dc89e3",
   "metadata": {},
   "outputs": [
    {
     "data": {
      "text/plain": [
       "{'scored': {'total': 7, 'percentage': '100.00%'},\n",
       " 'missed': {'total': 0, 'percentage': '0%'},\n",
       " 'total': 7}"
      ]
     },
     "execution_count": 44,
     "metadata": {},
     "output_type": "execute_result"
    }
   ],
   "source": [
    "# get penalty tab\n",
    "penalty = man_city['penalty']\n",
    "\n",
    "# show dict\n",
    "penalty"
   ]
  },
  {
   "cell_type": "code",
   "execution_count": 49,
   "id": "68b47db9",
   "metadata": {},
   "outputs": [],
   "source": [
    "# store values\n",
    "# totals\n",
    "total_pens = penalty['total']\n",
    "pens_scored = penalty['scored']['total']\n",
    "pens_missed = penalty['missed']['total']\n",
    "# conversion (have to get rid of the percentage symbol and convert to float)\n",
    "pens_converstion = float(penalty['scored']['percentage'][:-1])"
   ]
  },
  {
   "cell_type": "markdown",
   "id": "58a993b2",
   "metadata": {},
   "source": [
    "#### Lineups \n",
    "\n",
    "The lineups tab is actually a list of dictionaries. Each dict in the list contains a formation and the number of games the team used this formation. This stat will be another saved for later because each team will have a different number of lineups used so handling this tab will require additional work."
   ]
  },
  {
   "cell_type": "markdown",
   "id": "662aa212",
   "metadata": {},
   "source": [
    "#### Cards\n",
    "\n",
    "This tab contains the number of yellow and red cards the team received during the season. However, each subdirectory (red and yellow) doesn't contain a value for the total but rather has a breakdown of how many cards were given during each 15 minute interval of the game. Thus to tally the total of each, we will iterate through the intervals and sum up the totals in those dictionaries. "
   ]
  },
  {
   "cell_type": "code",
   "execution_count": 52,
   "id": "ca451be2",
   "metadata": {},
   "outputs": [
    {
     "data": {
      "text/plain": [
       "{'yellow': {'0-15': {'total': 1, 'percentage': '2.38%'},\n",
       "  '16-30': {'total': 7, 'percentage': '16.67%'},\n",
       "  '31-45': {'total': 7, 'percentage': '16.67%'},\n",
       "  '46-60': {'total': 9, 'percentage': '21.43%'},\n",
       "  '61-75': {'total': 5, 'percentage': '11.90%'},\n",
       "  '76-90': {'total': 6, 'percentage': '14.29%'},\n",
       "  '91-105': {'total': 7, 'percentage': '16.67%'},\n",
       "  '106-120': {'total': None, 'percentage': None}},\n",
       " 'red': {'0-15': {'total': None, 'percentage': None},\n",
       "  '16-30': {'total': None, 'percentage': None},\n",
       "  '31-45': {'total': None, 'percentage': None},\n",
       "  '46-60': {'total': 1, 'percentage': '100.00%'},\n",
       "  '61-75': {'total': None, 'percentage': None},\n",
       "  '76-90': {'total': None, 'percentage': None},\n",
       "  '91-105': {'total': None, 'percentage': None},\n",
       "  '106-120': {'total': None, 'percentage': None}}}"
      ]
     },
     "execution_count": 52,
     "metadata": {},
     "output_type": "execute_result"
    }
   ],
   "source": [
    "# get cards tab\n",
    "cards = man_city['cards']\n",
    "\n",
    "# show dict\n",
    "cards"
   ]
  },
  {
   "cell_type": "code",
   "execution_count": 68,
   "id": "da911f1e",
   "metadata": {},
   "outputs": [
    {
     "data": {
      "text/plain": [
       "{'0-15': {'total': 1, 'percentage': '2.38%'},\n",
       " '16-30': {'total': 7, 'percentage': '16.67%'},\n",
       " '31-45': {'total': 7, 'percentage': '16.67%'},\n",
       " '46-60': {'total': 9, 'percentage': '21.43%'},\n",
       " '61-75': {'total': 5, 'percentage': '11.90%'},\n",
       " '76-90': {'total': 6, 'percentage': '14.29%'},\n",
       " '91-105': {'total': 7, 'percentage': '16.67%'},\n",
       " '106-120': {'total': None, 'percentage': None}}"
      ]
     },
     "execution_count": 68,
     "metadata": {},
     "output_type": "execute_result"
    }
   ],
   "source": [
    "# split into yellow and red subdirectories\n",
    "yellow_cards = cards['yellow']\n",
    "red_cards = cards['red']\n",
    "\n",
    "# show one (structure is identical)\n",
    "yellow_cards"
   ]
  },
  {
   "cell_type": "code",
   "execution_count": 65,
   "id": "2ff4f67d",
   "metadata": {},
   "outputs": [],
   "source": [
    "# iterate through subdirectories to tally total\n",
    "# yellow cards\n",
    "# initialize total\n",
    "yc_total = 0\n",
    "for interval in yellow_cards.values():\n",
    "    # check if total is NoneType first\n",
    "    if interval['total'] is None:\n",
    "        yc_total += 0\n",
    "        continue\n",
    "    # if numeric, can just add int to total\n",
    "    yc_total += interval['total']\n",
    "\n",
    "# red cards\n",
    "rc_total = 0\n",
    "for interval in red_cards.values():\n",
    "    # check if total is NoneType first\n",
    "    if interval['total'] is None:\n",
    "        rc_total += 0\n",
    "        continue\n",
    "    # if numeric, can just add int to total\n",
    "    rc_total += interval['total']"
   ]
  },
  {
   "cell_type": "markdown",
   "id": "8451b590",
   "metadata": {},
   "source": [
    "#### Putting it Together\n",
    "\n",
    "With all of the values now stored, we can finally combine the information into one row of a dataframe. This will involve putting them into the frame first and then figuring out naming conventions for each of the columns (so the width of the printed frame isn't ridiculous)."
   ]
  },
  {
   "cell_type": "code",
   "execution_count": 79,
   "id": "6a5d8d22",
   "metadata": {},
   "outputs": [
    {
     "data": {
      "text/html": [
       "<div>\n",
       "<style scoped>\n",
       "    .dataframe tbody tr th:only-of-type {\n",
       "        vertical-align: middle;\n",
       "    }\n",
       "\n",
       "    .dataframe tbody tr th {\n",
       "        vertical-align: top;\n",
       "    }\n",
       "\n",
       "    .dataframe thead th {\n",
       "        text-align: right;\n",
       "    }\n",
       "</style>\n",
       "<table border=\"1\" class=\"dataframe\">\n",
       "  <thead>\n",
       "    <tr style=\"text-align: right;\">\n",
       "      <th></th>\n",
       "      <th>id</th>\n",
       "      <th>name</th>\n",
       "      <th>logo</th>\n",
       "      <th>form</th>\n",
       "      <th>HW</th>\n",
       "      <th>AW</th>\n",
       "      <th>TW</th>\n",
       "      <th>HL</th>\n",
       "      <th>AL</th>\n",
       "      <th>TL</th>\n",
       "      <th>...</th>\n",
       "      <th>CST</th>\n",
       "      <th>FSH</th>\n",
       "      <th>FSA</th>\n",
       "      <th>FST</th>\n",
       "      <th>PS</th>\n",
       "      <th>PM</th>\n",
       "      <th>PT</th>\n",
       "      <th>PC</th>\n",
       "      <th>YC</th>\n",
       "      <th>RC</th>\n",
       "    </tr>\n",
       "  </thead>\n",
       "  <tbody>\n",
       "    <tr>\n",
       "      <th>0</th>\n",
       "      <td>50</td>\n",
       "      <td>Manchester City</td>\n",
       "      <td>https://media.api-sports.io/football/teams/50.png</td>\n",
       "      <td>LWWWDWDWWLWWWWWWWWWWWWDWWLWWDWDWWWWWDW</td>\n",
       "      <td>15</td>\n",
       "      <td>14</td>\n",
       "      <td>29</td>\n",
       "      <td>2</td>\n",
       "      <td>1</td>\n",
       "      <td>3</td>\n",
       "      <td>...</td>\n",
       "      <td>21</td>\n",
       "      <td>2</td>\n",
       "      <td>2</td>\n",
       "      <td>4</td>\n",
       "      <td>7</td>\n",
       "      <td>0</td>\n",
       "      <td>7</td>\n",
       "      <td>100.0</td>\n",
       "      <td>42</td>\n",
       "      <td>1</td>\n",
       "    </tr>\n",
       "  </tbody>\n",
       "</table>\n",
       "<p>1 rows × 37 columns</p>\n",
       "</div>"
      ],
      "text/plain": [
       "   id             name                                               logo  \\\n",
       "0  50  Manchester City  https://media.api-sports.io/football/teams/50.png   \n",
       "\n",
       "                                     form  HW  AW  TW  HL  AL  TL  ...  CST  \\\n",
       "0  LWWWDWDWWLWWWWWWWWWWWWDWWLWWDWDWWWWWDW  15  14  29   2   1   3  ...   21   \n",
       "\n",
       "   FSH  FSA  FST  PS  PM  PT     PC  YC  RC  \n",
       "0    2    2    4   7   0   7  100.0  42   1  \n",
       "\n",
       "[1 rows x 37 columns]"
      ]
     },
     "execution_count": 79,
     "metadata": {},
     "output_type": "execute_result"
    }
   ],
   "source": [
    "# creating dictionary for values before converting to pd.DataFrame\n",
    "# naming conventions\n",
    "'''\n",
    "Team Overview\n",
    "id: team id number\n",
    "name: team name\n",
    "logo: url for team's logo\n",
    "form : team form (performance in order from left to right)\n",
    "-----------------------------\n",
    "Performance\n",
    "HW : home wins\n",
    "AW : away wins\n",
    "TW : total wins (home wins + away wins)\n",
    "HL : home losses\n",
    "AL : away losses \n",
    "TL : total losses\n",
    "HD : home draws\n",
    "AD : away draws\n",
    "TD : total draws\n",
    "-----------------------------\n",
    "Goal Tallies\n",
    "GFH : goals for at home\n",
    "GFA : goals for away\n",
    "GFT : goals for total\n",
    "GAH : goals against at home\n",
    "GAA : goals against away\n",
    "GAT : goals against total\n",
    "-----------------------------\n",
    "Goal Averages \n",
    "GFH_avg : goals for at home (avg)\n",
    "GFA_avg : goals for away (avg)\n",
    "GFT_avg : goals for total (avg)\n",
    "GAH_avg : goals against at home (avg)\n",
    "GAA_avg : goals against away (avg)\n",
    "GAT_avg : goals against total (avg)\n",
    "-----------------------------\n",
    "Clean Sheets & Failed Scored\n",
    "CSH : home clean sheets\n",
    "CSA : away clean sheets\n",
    "CST : total clean sheets\n",
    "FSH : failed to score games at home\n",
    "FSA : failed to score games away\n",
    "FST : total games failed to score\n",
    "-----------------------------\n",
    "Penalties\n",
    "PS : penalties scored\n",
    "PM : penalties missed\n",
    "PT : total penalties\n",
    "PC : penalty conversion rate\n",
    "-----------------------------\n",
    "Cards\n",
    "YC : total yellow cards\n",
    "RC : total red cards\n",
    "'''\n",
    "\n",
    "# create dictionary\n",
    "# include team id columns later\n",
    "data = {\n",
    "    'id' : id, 'name' : name, 'logo' : logo,\n",
    "    'form' : form,\n",
    "    'HW' : home_wins, 'AW' : away_wins, 'TW' : wins,\n",
    "    'HL' : home_losses, 'AL' : away_losses, 'TL' : losses,\n",
    "    'HD' : home_draws, 'AD' : away_draws, 'TD' : draws,\n",
    "    'GFH' : goals_for_home, 'GFA' : goals_for_away, 'GFT' : goals_for_total,\n",
    "    'GAH' : goals_against_home, 'GAA' : goals_against_away, 'GAT' : goals_against_total,\n",
    "    'GFH_avg' : goals_home_avg, 'GFA_avg' : goals_away_avg, 'GFT_avg' : goals_avg,\n",
    "    'GAH_avg' : against_home_avg, 'GAA_avg' : against_away_avg, \"GAT_avg\" : against_avg,\n",
    "    'CSH' : clean_sheets_home, 'CSA' : clean_sheets_away, 'CST' : clean_sheets_total,\n",
    "    'FSH' : failed_home, 'FSA' : failed_away, 'FST' : failed_total,\n",
    "    'PS' : pens_scored, 'PM' : pens_missed, 'PT' : total_pens, 'PC' : pens_converstion,\n",
    "    'YC' : yc_total, 'RC' : rc_total\n",
    "}\n",
    "\n",
    "# create pd.DataFrame\n",
    "data_df = pd.DataFrame(data, index = [0])\n",
    "\n",
    "# show dataframe\n",
    "data_df"
   ]
  }
 ],
 "metadata": {
  "kernelspec": {
   "display_name": "Python 3",
   "language": "python",
   "name": "python3"
  },
  "language_info": {
   "codemirror_mode": {
    "name": "ipython",
    "version": 3
   },
   "file_extension": ".py",
   "mimetype": "text/x-python",
   "name": "python",
   "nbconvert_exporter": "python",
   "pygments_lexer": "ipython3",
   "version": "3.12.7"
  }
 },
 "nbformat": 4,
 "nbformat_minor": 5
}
