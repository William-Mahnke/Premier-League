{
 "cells": [
  {
   "cell_type": "markdown",
   "id": "61fc245b",
   "metadata": {},
   "source": [
    "## Experimenting with soccerdata library"
   ]
  },
  {
   "cell_type": "code",
   "execution_count": null,
   "id": "0db1244a",
   "metadata": {},
   "outputs": [],
   "source": [
    "# import libraries \n",
    "import os \n",
    "import pandas as pd\n",
    "import sys \n",
    "import numpy as np\n",
    "import matplotlib.pyplot as plt\n",
    "import seaborn as sns\n",
    "import soccerdata as sd"
   ]
  }
 ],
 "metadata": {
  "kernelspec": {
   "display_name": "Python 3",
   "language": "python",
   "name": "python3"
  },
  "language_info": {
   "codemirror_mode": {
    "name": "ipython",
    "version": 3
   },
   "file_extension": ".py",
   "mimetype": "text/x-python",
   "name": "python",
   "nbconvert_exporter": "python",
   "pygments_lexer": "ipython3",
   "version": "3.12.7"
  }
 },
 "nbformat": 4,
 "nbformat_minor": 5
}
