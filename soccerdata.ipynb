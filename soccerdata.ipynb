{
 "cells": [
  {
   "cell_type": "markdown",
   "id": "61fc245b",
   "metadata": {},
   "source": [
    "## Experimenting with soccerdata library"
   ]
  },
  {
   "cell_type": "code",
   "execution_count": 1,
   "id": "0db1244a",
   "metadata": {},
   "outputs": [
    {
     "data": {
      "text/html": [
       "<pre style=\"white-space:pre;overflow-x:auto;line-height:normal;font-family:Menlo,'DejaVu Sans Mono',consolas,'Courier New',monospace\"><span style=\"color: #7fbfbf; text-decoration-color: #7fbfbf\">[08/21/25 19:38:57] </span><span style=\"color: #000080; text-decoration-color: #000080\">INFO    </span> No custom team name replacements found. You can configure these in       <a href=\"file:///Library/Frameworks/Python.framework/Versions/3.12/lib/python3.12/site-packages/soccerdata/_config.py\" target=\"_blank\"><span style=\"color: #7f7f7f; text-decoration-color: #7f7f7f\">_config.py</span></a><span style=\"color: #7f7f7f; text-decoration-color: #7f7f7f\">:</span><a href=\"file:///Library/Frameworks/Python.framework/Versions/3.12/lib/python3.12/site-packages/soccerdata/_config.py#91\" target=\"_blank\"><span style=\"color: #7f7f7f; text-decoration-color: #7f7f7f\">91</span></a>\n",
       "<span style=\"color: #7fbfbf; text-decoration-color: #7fbfbf\">                    </span>         <span style=\"color: #800080; text-decoration-color: #800080\">/Users/williammahnke/soccerdata/config/</span><span style=\"color: #ff00ff; text-decoration-color: #ff00ff\">teamname_replacements.json.</span>       <span style=\"color: #7f7f7f; text-decoration-color: #7f7f7f\">             </span>\n",
       "</pre>\n"
      ],
      "text/plain": [
       "\u001b[2;36m[08/21/25 19:38:57]\u001b[0m\u001b[2;36m \u001b[0m\u001b[34mINFO    \u001b[0m No custom team name replacements found. You can configure these in       \u001b]8;id=671199;file:///Library/Frameworks/Python.framework/Versions/3.12/lib/python3.12/site-packages/soccerdata/_config.py\u001b\\\u001b[2m_config.py\u001b[0m\u001b]8;;\u001b\\\u001b[2m:\u001b[0m\u001b]8;id=127654;file:///Library/Frameworks/Python.framework/Versions/3.12/lib/python3.12/site-packages/soccerdata/_config.py#91\u001b\\\u001b[2m91\u001b[0m\u001b]8;;\u001b\\\n",
       "\u001b[2;36m                    \u001b[0m         \u001b[35m/Users/williammahnke/soccerdata/config/\u001b[0m\u001b[95mteamname_replacements.json.\u001b[0m       \u001b[2m             \u001b[0m\n"
      ]
     },
     "metadata": {},
     "output_type": "display_data"
    },
    {
     "data": {
      "text/html": [
       "<pre style=\"white-space:pre;overflow-x:auto;line-height:normal;font-family:Menlo,'DejaVu Sans Mono',consolas,'Courier New',monospace\"><span style=\"color: #7fbfbf; text-decoration-color: #7fbfbf\">                    </span><span style=\"color: #000080; text-decoration-color: #000080\">INFO    </span> No custom league dict found. You can configure additional leagues in    <a href=\"file:///Library/Frameworks/Python.framework/Versions/3.12/lib/python3.12/site-packages/soccerdata/_config.py\" target=\"_blank\"><span style=\"color: #7f7f7f; text-decoration-color: #7f7f7f\">_config.py</span></a><span style=\"color: #7f7f7f; text-decoration-color: #7f7f7f\">:</span><a href=\"file:///Library/Frameworks/Python.framework/Versions/3.12/lib/python3.12/site-packages/soccerdata/_config.py#197\" target=\"_blank\"><span style=\"color: #7f7f7f; text-decoration-color: #7f7f7f\">197</span></a>\n",
       "<span style=\"color: #7fbfbf; text-decoration-color: #7fbfbf\">                    </span>         <span style=\"color: #800080; text-decoration-color: #800080\">/Users/williammahnke/soccerdata/config/</span><span style=\"color: #ff00ff; text-decoration-color: #ff00ff\">league_dict.json.</span>                <span style=\"color: #7f7f7f; text-decoration-color: #7f7f7f\">              </span>\n",
       "</pre>\n"
      ],
      "text/plain": [
       "\u001b[2;36m                   \u001b[0m\u001b[2;36m \u001b[0m\u001b[34mINFO    \u001b[0m No custom league dict found. You can configure additional leagues in    \u001b]8;id=147881;file:///Library/Frameworks/Python.framework/Versions/3.12/lib/python3.12/site-packages/soccerdata/_config.py\u001b\\\u001b[2m_config.py\u001b[0m\u001b]8;;\u001b\\\u001b[2m:\u001b[0m\u001b]8;id=536170;file:///Library/Frameworks/Python.framework/Versions/3.12/lib/python3.12/site-packages/soccerdata/_config.py#197\u001b\\\u001b[2m197\u001b[0m\u001b]8;;\u001b\\\n",
       "\u001b[2;36m                    \u001b[0m         \u001b[35m/Users/williammahnke/soccerdata/config/\u001b[0m\u001b[95mleague_dict.json.\u001b[0m                \u001b[2m              \u001b[0m\n"
      ]
     },
     "metadata": {},
     "output_type": "display_data"
    }
   ],
   "source": [
    "# import libraries \n",
    "import os \n",
    "import pandas as pd\n",
    "import sys \n",
    "import numpy as np\n",
    "import matplotlib.pyplot as plt\n",
    "import seaborn as sns\n",
    "import soccerdata as sd"
   ]
  },
  {
   "cell_type": "code",
   "execution_count": null,
   "id": "9eae2d19",
   "metadata": {},
   "outputs": [
    {
     "data": {
      "text/html": [
       "<pre style=\"white-space:pre;overflow-x:auto;line-height:normal;font-family:Menlo,'DejaVu Sans Mono',consolas,'Courier New',monospace\"><span style=\"color: #7fbfbf; text-decoration-color: #7fbfbf\">[08/21/25 19:41:17] </span><span style=\"color: #000080; text-decoration-color: #000080\">INFO    </span> Saving cached data to <span style=\"color: #800080; text-decoration-color: #800080\">/Users/williammahnke/soccerdata/data/</span><span style=\"color: #ff00ff; text-decoration-color: #ff00ff\">ESPN</span>         <a href=\"file:///Library/Frameworks/Python.framework/Versions/3.12/lib/python3.12/site-packages/soccerdata/_common.py\" target=\"_blank\"><span style=\"color: #7f7f7f; text-decoration-color: #7f7f7f\">_common.py</span></a><span style=\"color: #7f7f7f; text-decoration-color: #7f7f7f\">:</span><a href=\"file:///Library/Frameworks/Python.framework/Versions/3.12/lib/python3.12/site-packages/soccerdata/_common.py#263\" target=\"_blank\"><span style=\"color: #7f7f7f; text-decoration-color: #7f7f7f\">263</span></a>\n",
       "</pre>\n"
      ],
      "text/plain": [
       "\u001b[2;36m[08/21/25 19:41:17]\u001b[0m\u001b[2;36m \u001b[0m\u001b[34mINFO    \u001b[0m Saving cached data to \u001b[35m/Users/williammahnke/soccerdata/data/\u001b[0m\u001b[95mESPN\u001b[0m         \u001b]8;id=962904;file:///Library/Frameworks/Python.framework/Versions/3.12/lib/python3.12/site-packages/soccerdata/_common.py\u001b\\\u001b[2m_common.py\u001b[0m\u001b]8;;\u001b\\\u001b[2m:\u001b[0m\u001b]8;id=297728;file:///Library/Frameworks/Python.framework/Versions/3.12/lib/python3.12/site-packages/soccerdata/_common.py#263\u001b\\\u001b[2m263\u001b[0m\u001b]8;;\u001b\\\n"
      ]
     },
     "metadata": {},
     "output_type": "display_data"
    },
    {
     "data": {
      "text/html": [
       "<pre style=\"white-space:pre;overflow-x:auto;line-height:normal;font-family:Menlo,'DejaVu Sans Mono',consolas,'Courier New',monospace\"><span style=\"color: #7fbfbf; text-decoration-color: #7fbfbf\">                    </span><span style=\"color: #000080; text-decoration-color: #000080\">INFO    </span> No seasons provided. Will retrieve data for the last <span style=\"color: #008080; text-decoration-color: #008080; font-weight: bold\">5</span> seasons.         <a href=\"file:///Library/Frameworks/Python.framework/Versions/3.12/lib/python3.12/site-packages/soccerdata/_common.py\" target=\"_blank\"><span style=\"color: #7f7f7f; text-decoration-color: #7f7f7f\">_common.py</span></a><span style=\"color: #7f7f7f; text-decoration-color: #7f7f7f\">:</span><a href=\"file:///Library/Frameworks/Python.framework/Versions/3.12/lib/python3.12/site-packages/soccerdata/_common.py#475\" target=\"_blank\"><span style=\"color: #7f7f7f; text-decoration-color: #7f7f7f\">475</span></a>\n",
       "</pre>\n"
      ],
      "text/plain": [
       "\u001b[2;36m                   \u001b[0m\u001b[2;36m \u001b[0m\u001b[34mINFO    \u001b[0m No seasons provided. Will retrieve data for the last \u001b[1;36m5\u001b[0m seasons.         \u001b]8;id=334466;file:///Library/Frameworks/Python.framework/Versions/3.12/lib/python3.12/site-packages/soccerdata/_common.py\u001b\\\u001b[2m_common.py\u001b[0m\u001b]8;;\u001b\\\u001b[2m:\u001b[0m\u001b]8;id=541266;file:///Library/Frameworks/Python.framework/Versions/3.12/lib/python3.12/site-packages/soccerdata/_common.py#475\u001b\\\u001b[2m475\u001b[0m\u001b]8;;\u001b\\\n"
      ]
     },
     "metadata": {},
     "output_type": "display_data"
    }
   ],
   "source": [
    "espn = sd.ESPN()"
   ]
  },
  {
   "cell_type": "code",
   "execution_count": 7,
   "id": "48bab201",
   "metadata": {},
   "outputs": [
    {
     "data": {
      "text/plain": [
       "['ENG-Premier League',\n",
       " 'ESP-La Liga',\n",
       " 'ITA-Serie A',\n",
       " 'GER-Bundesliga',\n",
       " 'FRA-Ligue 1']"
      ]
     },
     "execution_count": 7,
     "metadata": {},
     "output_type": "execute_result"
    }
   ],
   "source": [
    "espn.leagues"
   ]
  },
  {
   "cell_type": "code",
   "execution_count": 8,
   "id": "3a250e5a",
   "metadata": {},
   "outputs": [
    {
     "data": {
      "text/plain": [
       "['2425', '2324', '2223', '2122', '2021', '1920']"
      ]
     },
     "execution_count": 8,
     "metadata": {},
     "output_type": "execute_result"
    }
   ],
   "source": [
    "espn.seasons"
   ]
  },
  {
   "cell_type": "code",
   "execution_count": 12,
   "id": "304ca938",
   "metadata": {},
   "outputs": [
    {
     "data": {
      "text/html": [
       "<pre style=\"white-space:pre;overflow-x:auto;line-height:normal;font-family:Menlo,'DejaVu Sans Mono',consolas,'Courier New',monospace\"><span style=\"color: #7fbfbf; text-decoration-color: #7fbfbf\">[08/21/25 19:45:53] </span><span style=\"color: #000080; text-decoration-color: #000080\">INFO    </span> Saving cached data to <span style=\"color: #800080; text-decoration-color: #800080\">/Users/williammahnke/soccerdata/data/</span><span style=\"color: #ff00ff; text-decoration-color: #ff00ff\">ESPN</span>         <a href=\"file:///Library/Frameworks/Python.framework/Versions/3.12/lib/python3.12/site-packages/soccerdata/_common.py\" target=\"_blank\"><span style=\"color: #7f7f7f; text-decoration-color: #7f7f7f\">_common.py</span></a><span style=\"color: #7f7f7f; text-decoration-color: #7f7f7f\">:</span><a href=\"file:///Library/Frameworks/Python.framework/Versions/3.12/lib/python3.12/site-packages/soccerdata/_common.py#263\" target=\"_blank\"><span style=\"color: #7f7f7f; text-decoration-color: #7f7f7f\">263</span></a>\n",
       "</pre>\n"
      ],
      "text/plain": [
       "\u001b[2;36m[08/21/25 19:45:53]\u001b[0m\u001b[2;36m \u001b[0m\u001b[34mINFO    \u001b[0m Saving cached data to \u001b[35m/Users/williammahnke/soccerdata/data/\u001b[0m\u001b[95mESPN\u001b[0m         \u001b]8;id=686285;file:///Library/Frameworks/Python.framework/Versions/3.12/lib/python3.12/site-packages/soccerdata/_common.py\u001b\\\u001b[2m_common.py\u001b[0m\u001b]8;;\u001b\\\u001b[2m:\u001b[0m\u001b]8;id=312699;file:///Library/Frameworks/Python.framework/Versions/3.12/lib/python3.12/site-packages/soccerdata/_common.py#263\u001b\\\u001b[2m263\u001b[0m\u001b]8;;\u001b\\\n"
      ]
     },
     "metadata": {},
     "output_type": "display_data"
    }
   ],
   "source": [
    "pl_data = sd.ESPN(leagues = 'ENG-Premier League', seasons = ['2425'])"
   ]
  },
  {
   "cell_type": "code",
   "execution_count": 14,
   "id": "8c6ddc22",
   "metadata": {},
   "outputs": [
    {
     "data": {
      "text/html": [
       "<div>\n",
       "<style scoped>\n",
       "    .dataframe tbody tr th:only-of-type {\n",
       "        vertical-align: middle;\n",
       "    }\n",
       "\n",
       "    .dataframe tbody tr th {\n",
       "        vertical-align: top;\n",
       "    }\n",
       "\n",
       "    .dataframe thead th {\n",
       "        text-align: right;\n",
       "    }\n",
       "</style>\n",
       "<table border=\"1\" class=\"dataframe\">\n",
       "  <thead>\n",
       "    <tr style=\"text-align: right;\">\n",
       "      <th></th>\n",
       "      <th></th>\n",
       "      <th></th>\n",
       "      <th>date</th>\n",
       "      <th>home_team</th>\n",
       "      <th>away_team</th>\n",
       "      <th>game_id</th>\n",
       "      <th>league_id</th>\n",
       "    </tr>\n",
       "    <tr>\n",
       "      <th>league</th>\n",
       "      <th>season</th>\n",
       "      <th>game</th>\n",
       "      <th></th>\n",
       "      <th></th>\n",
       "      <th></th>\n",
       "      <th></th>\n",
       "      <th></th>\n",
       "    </tr>\n",
       "  </thead>\n",
       "  <tbody>\n",
       "    <tr>\n",
       "      <th rowspan=\"10\" valign=\"top\">ENG-Premier League</th>\n",
       "      <th rowspan=\"10\" valign=\"top\">2425</th>\n",
       "      <th>2024-08-16 Manchester United-Fulham</th>\n",
       "      <td>2024-08-16 19:00:00+00:00</td>\n",
       "      <td>Manchester United</td>\n",
       "      <td>Fulham</td>\n",
       "      <td>704279</td>\n",
       "      <td>eng.1</td>\n",
       "    </tr>\n",
       "    <tr>\n",
       "      <th>2024-08-17 Arsenal-Wolverhampton Wanderers</th>\n",
       "      <td>2024-08-17 14:00:00+00:00</td>\n",
       "      <td>Arsenal</td>\n",
       "      <td>Wolverhampton Wanderers</td>\n",
       "      <td>704281</td>\n",
       "      <td>eng.1</td>\n",
       "    </tr>\n",
       "    <tr>\n",
       "      <th>2024-08-17 Everton-Brighton &amp; Hove Albion</th>\n",
       "      <td>2024-08-17 14:00:00+00:00</td>\n",
       "      <td>Everton</td>\n",
       "      <td>Brighton &amp; Hove Albion</td>\n",
       "      <td>704282</td>\n",
       "      <td>eng.1</td>\n",
       "    </tr>\n",
       "    <tr>\n",
       "      <th>2024-08-17 Ipswich Town-Liverpool</th>\n",
       "      <td>2024-08-17 11:30:00+00:00</td>\n",
       "      <td>Ipswich Town</td>\n",
       "      <td>Liverpool</td>\n",
       "      <td>704280</td>\n",
       "      <td>eng.1</td>\n",
       "    </tr>\n",
       "    <tr>\n",
       "      <th>2024-08-17 Newcastle United-Southampton</th>\n",
       "      <td>2024-08-17 14:00:00+00:00</td>\n",
       "      <td>Newcastle United</td>\n",
       "      <td>Southampton</td>\n",
       "      <td>704283</td>\n",
       "      <td>eng.1</td>\n",
       "    </tr>\n",
       "    <tr>\n",
       "      <th>2024-08-17 Nottingham Forest-AFC Bournemouth</th>\n",
       "      <td>2024-08-17 14:00:00+00:00</td>\n",
       "      <td>Nottingham Forest</td>\n",
       "      <td>AFC Bournemouth</td>\n",
       "      <td>704284</td>\n",
       "      <td>eng.1</td>\n",
       "    </tr>\n",
       "    <tr>\n",
       "      <th>2024-08-17 West Ham United-Aston Villa</th>\n",
       "      <td>2024-08-17 16:30:00+00:00</td>\n",
       "      <td>West Ham United</td>\n",
       "      <td>Aston Villa</td>\n",
       "      <td>704285</td>\n",
       "      <td>eng.1</td>\n",
       "    </tr>\n",
       "    <tr>\n",
       "      <th>2024-08-18 Brentford-Crystal Palace</th>\n",
       "      <td>2024-08-18 13:00:00+00:00</td>\n",
       "      <td>Brentford</td>\n",
       "      <td>Crystal Palace</td>\n",
       "      <td>704286</td>\n",
       "      <td>eng.1</td>\n",
       "    </tr>\n",
       "    <tr>\n",
       "      <th>2024-08-18 Chelsea-Manchester City</th>\n",
       "      <td>2024-08-18 15:30:00+00:00</td>\n",
       "      <td>Chelsea</td>\n",
       "      <td>Manchester City</td>\n",
       "      <td>704287</td>\n",
       "      <td>eng.1</td>\n",
       "    </tr>\n",
       "    <tr>\n",
       "      <th>2024-08-19 Leicester City-Tottenham Hotspur</th>\n",
       "      <td>2024-08-19 19:00:00+00:00</td>\n",
       "      <td>Leicester City</td>\n",
       "      <td>Tottenham Hotspur</td>\n",
       "      <td>704288</td>\n",
       "      <td>eng.1</td>\n",
       "    </tr>\n",
       "  </tbody>\n",
       "</table>\n",
       "</div>"
      ],
      "text/plain": [
       "                                                                                            date  \\\n",
       "league             season game                                                                     \n",
       "ENG-Premier League 2425   2024-08-16 Manchester United-Fulham          2024-08-16 19:00:00+00:00   \n",
       "                          2024-08-17 Arsenal-Wolverhampton Wanderers   2024-08-17 14:00:00+00:00   \n",
       "                          2024-08-17 Everton-Brighton & Hove Albion    2024-08-17 14:00:00+00:00   \n",
       "                          2024-08-17 Ipswich Town-Liverpool            2024-08-17 11:30:00+00:00   \n",
       "                          2024-08-17 Newcastle United-Southampton      2024-08-17 14:00:00+00:00   \n",
       "                          2024-08-17 Nottingham Forest-AFC Bournemouth 2024-08-17 14:00:00+00:00   \n",
       "                          2024-08-17 West Ham United-Aston Villa       2024-08-17 16:30:00+00:00   \n",
       "                          2024-08-18 Brentford-Crystal Palace          2024-08-18 13:00:00+00:00   \n",
       "                          2024-08-18 Chelsea-Manchester City           2024-08-18 15:30:00+00:00   \n",
       "                          2024-08-19 Leicester City-Tottenham Hotspur  2024-08-19 19:00:00+00:00   \n",
       "\n",
       "                                                                                home_team  \\\n",
       "league             season game                                                              \n",
       "ENG-Premier League 2425   2024-08-16 Manchester United-Fulham           Manchester United   \n",
       "                          2024-08-17 Arsenal-Wolverhampton Wanderers              Arsenal   \n",
       "                          2024-08-17 Everton-Brighton & Hove Albion               Everton   \n",
       "                          2024-08-17 Ipswich Town-Liverpool                  Ipswich Town   \n",
       "                          2024-08-17 Newcastle United-Southampton        Newcastle United   \n",
       "                          2024-08-17 Nottingham Forest-AFC Bournemouth  Nottingham Forest   \n",
       "                          2024-08-17 West Ham United-Aston Villa          West Ham United   \n",
       "                          2024-08-18 Brentford-Crystal Palace                   Brentford   \n",
       "                          2024-08-18 Chelsea-Manchester City                      Chelsea   \n",
       "                          2024-08-19 Leicester City-Tottenham Hotspur      Leicester City   \n",
       "\n",
       "                                                                                      away_team  \\\n",
       "league             season game                                                                    \n",
       "ENG-Premier League 2425   2024-08-16 Manchester United-Fulham                            Fulham   \n",
       "                          2024-08-17 Arsenal-Wolverhampton Wanderers    Wolverhampton Wanderers   \n",
       "                          2024-08-17 Everton-Brighton & Hove Albion      Brighton & Hove Albion   \n",
       "                          2024-08-17 Ipswich Town-Liverpool                           Liverpool   \n",
       "                          2024-08-17 Newcastle United-Southampton                   Southampton   \n",
       "                          2024-08-17 Nottingham Forest-AFC Bournemouth          AFC Bournemouth   \n",
       "                          2024-08-17 West Ham United-Aston Villa                    Aston Villa   \n",
       "                          2024-08-18 Brentford-Crystal Palace                    Crystal Palace   \n",
       "                          2024-08-18 Chelsea-Manchester City                    Manchester City   \n",
       "                          2024-08-19 Leicester City-Tottenham Hotspur         Tottenham Hotspur   \n",
       "\n",
       "                                                                        game_id  \\\n",
       "league             season game                                                    \n",
       "ENG-Premier League 2425   2024-08-16 Manchester United-Fulham            704279   \n",
       "                          2024-08-17 Arsenal-Wolverhampton Wanderers     704281   \n",
       "                          2024-08-17 Everton-Brighton & Hove Albion      704282   \n",
       "                          2024-08-17 Ipswich Town-Liverpool              704280   \n",
       "                          2024-08-17 Newcastle United-Southampton        704283   \n",
       "                          2024-08-17 Nottingham Forest-AFC Bournemouth   704284   \n",
       "                          2024-08-17 West Ham United-Aston Villa         704285   \n",
       "                          2024-08-18 Brentford-Crystal Palace            704286   \n",
       "                          2024-08-18 Chelsea-Manchester City             704287   \n",
       "                          2024-08-19 Leicester City-Tottenham Hotspur    704288   \n",
       "\n",
       "                                                                       league_id  \n",
       "league             season game                                                    \n",
       "ENG-Premier League 2425   2024-08-16 Manchester United-Fulham              eng.1  \n",
       "                          2024-08-17 Arsenal-Wolverhampton Wanderers       eng.1  \n",
       "                          2024-08-17 Everton-Brighton & Hove Albion        eng.1  \n",
       "                          2024-08-17 Ipswich Town-Liverpool                eng.1  \n",
       "                          2024-08-17 Newcastle United-Southampton          eng.1  \n",
       "                          2024-08-17 Nottingham Forest-AFC Bournemouth     eng.1  \n",
       "                          2024-08-17 West Ham United-Aston Villa           eng.1  \n",
       "                          2024-08-18 Brentford-Crystal Palace              eng.1  \n",
       "                          2024-08-18 Chelsea-Manchester City               eng.1  \n",
       "                          2024-08-19 Leicester City-Tottenham Hotspur      eng.1  "
      ]
     },
     "execution_count": 14,
     "metadata": {},
     "output_type": "execute_result"
    }
   ],
   "source": [
    "pl_schedule = pl_data.read_schedule()\n",
    "pl_schedule.head(10)"
   ]
  }
 ],
 "metadata": {
  "kernelspec": {
   "display_name": "Python 3",
   "language": "python",
   "name": "python3"
  },
  "language_info": {
   "codemirror_mode": {
    "name": "ipython",
    "version": 3
   },
   "file_extension": ".py",
   "mimetype": "text/x-python",
   "name": "python",
   "nbconvert_exporter": "python",
   "pygments_lexer": "ipython3",
   "version": "3.12.7"
  }
 },
 "nbformat": 4,
 "nbformat_minor": 5
}
