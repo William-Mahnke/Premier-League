{
 "cells": [
  {
   "cell_type": "markdown",
   "id": "e4ab5d61",
   "metadata": {},
   "source": [
    "This file is for scraping season data from FBRef.com to make dataframes to be used in `prediction.ipynb` to make match winner predictions"
   ]
  },
  {
   "cell_type": "code",
   "execution_count": 2,
   "id": "1046a2ae",
   "metadata": {},
   "outputs": [],
   "source": [
    "import requests\n",
    "from bs4 import BeautifulSoup"
   ]
  },
  {
   "cell_type": "code",
   "execution_count": 47,
   "id": "7f8cfe11",
   "metadata": {},
   "outputs": [],
   "source": [
    "# URL for the Premier League 2021-2022 season standings on FBref\n",
    "standing_url = \"https://fbref.com/en/comps/9/2021-2022/2021-2022-Premier-League-Stats\""
   ]
  },
  {
   "cell_type": "code",
   "execution_count": 48,
   "id": "b9ccb5d9",
   "metadata": {},
   "outputs": [],
   "source": [
    "# Storing webpage content in data\n",
    "data = requests.get(standing_url)"
   ]
  },
  {
   "cell_type": "code",
   "execution_count": 49,
   "id": "a927967e",
   "metadata": {},
   "outputs": [],
   "source": [
    "soup = BeautifulSoup(data.text, \"html.parser\")"
   ]
  },
  {
   "cell_type": "code",
   "execution_count": 50,
   "id": "4e930d4a",
   "metadata": {},
   "outputs": [
    {
     "data": {
      "text/plain": [
       "'<!DOCTYPE html><html lang=\"en-US\"><head><title>Just a moment...</title><meta http-equiv=\"Content-Type\" content=\"text/html; charset=UTF-8\"><meta http-equiv=\"X-UA-Compatible\" content=\"IE=Edge\"><meta name=\"robots\" content=\"noindex,nofollow\"><meta name=\"viewport\" content=\"width=device-width,initial-scale=1\"><style>*{box-sizing:border-box;margin:0;padding:0}html{line-height:1.15;-webkit-text-size-adjust:100%;color:#313131;font-family:system-ui,-apple-system,BlinkMacSystemFont,\"Segoe UI\",Roboto,\"Helvetica Neue\",Arial,\"Noto Sans\",sans-serif,\"Apple Color Emoji\",\"Segoe UI Emoji\",\"Segoe UI Symbol\",\"Noto Color Emoji\"}body{display:flex;flex-direction:column;height:100vh;min-height:100vh}.main-content{margin:8rem auto;padding-left:1.5rem;max-width:60rem}@media (width <= 720px){.main-content{margin-top:4rem}}.h2{line-height:2.25rem;font-size:1.5rem;font-weight:500}@media (width <= 720px){.h2{line-height:1.5rem;font-size:1.25rem}}#challenge-error-text{background-image:url(\"data:image/svg+xml;base64,PHN2ZyB4bWxucz0iaHR0cDovL3d3dy53My5vcmcvMjAwMC9zdmciIHdpZHRoPSIzMiIgaGVpZ2h0PSIzMiIgZmlsbD0ibm9uZSI+PHBhdGggZmlsbD0iI0IyMEYwMyIgZD0iTTE2IDNhMTMgMTMgMCAxIDAgMTMgMTNBMTMuMDE1IDEzLjAxNSAwIDAgMCAxNiAzbTAgMjRhMTEgMTEgMCAxIDEgMTEtMTEgMTEuMDEgMTEuMDEgMCAwIDEtMTEgMTEiLz48cGF0aCBmaWxsPSIjQjIwRjAzIiBkPSJNMTcuMDM4IDE4LjYxNUgxNC44N0wxNC41NjMgOS41aDIuNzgzem0tMS4wODQgMS40MjdxLjY2IDAgMS4wNTcuMzg4LjQwNy4zODkuNDA3Ljk5NCAwIC41OTYtLjQwNy45ODQtLjM5Ny4zOS0xLjA1Ny4zODktLjY1IDAtMS4wNTYtLjM4OS0uMzk4LS4zODktLjM5OC0uOTg0IDAtLjU5Ny4zOTgtLjk4NS40MDYtLjM5NyAxLjA1Ni0uMzk3Ii8+PC9zdmc+\");background-repeat:no-repeat;background-size:contain;padding-left:34px}@media (prefers-color-scheme: dark){body{background-color:#222;color:#d9d9d9}}</style><meta http-equiv=\"refresh\" content=\"360\"></head><body><div class=\"main-wrapper\" role=\"main\"><div class=\"main-content\"><noscript><div class=\"h2\"><span id=\"challenge-error-text\">Enable JavaScript and cookies to continue</span></div></noscript></div></div><script>(function(){window._cf_chl_opt = {cvId: \\'3\\',cZone: \\'fbref.com\\',cType: \\'managed\\',cRay: \\'972ed90a39587c77\\',cH: \\'XQCbg89SbWi9huc4pyt94c7ZDbSgj.H4oo5cyHSoVWg-1755828773-1.2.1.1-nGNk9xLqMrP9l01Lx2IYnhG8O0j0H9MYk62vJAA3ugpnSE6lYwNwz69tEM0JgG2b\\',cUPMDTk:\"\\\\/en\\\\/comps\\\\/9\\\\/2021-2022\\\\/2021-2022-Premier-League-Stats?__cf_chl_tk=ButBsdOm8Ur0GeuBQ_ni8mWVD084Y4n_L6b7KNtMd1w-1755828773-1.0.1.1-l0tzbyu5xsw707dRxNiQIk2KmrcliIUdd.LsED7fBBA\",cFPWv: \\'b\\',cITimeS: \\'1755828773\\',cTplC:0,cTplV:5,cTplB: \\'cf\\',fa:\"\\\\/en\\\\/comps\\\\/9\\\\/2021-2022\\\\/2021-2022-Premier-League-Stats?__cf_chl_f_tk=ButBsdOm8Ur0GeuBQ_ni8mWVD084Y4n_L6b7KNtMd1w-1755828773-1.0.1.1-l0tzbyu5xsw707dRxNiQIk2KmrcliIUdd.LsED7fBBA\",md: \\'q5ZC27wKrGFKpdagDj_RWFREjhBQZX8p3ENDm1C94PA-1755828773-1.2.1.1-oQiDzHy9wf3rjkOTETdSi9pefI9vzXpCYHzdbpymkNeOYao1fpEWenUCWat2aeLHUGU2.VwVdnelMcwrKxmI7ACyFeXf1dqGH9F8W2X9hYjiGw7F2kVR5lf1_oN7BKP9w9SnkkqdU1QU84iDPutn1aCl0iXT7MijEGKWgJsS6Voq_e2oShL25nGZIpQhNGzAAcLN36XLIlGDbybUDz5eo_.iKwx9jAsRXQnvyFUv77D2ljOI61hoaDxyemf3Rwp6FSEKzHysy7TnNYQ8USbzWCf62G6tZ7ZksadYcE7BTAoAiHOIINN4C3roz3UBHRmikWYjrkluID.jfqQN5vv9Q0gka9dfa8jpziiRPWFAvlU2YjXyiLvuXwSIgJv2nh9jqoRwYWqrI.23ujdDK0hkpfbSlJLsHX26dF6eLhTssB.CxCh4SckOOvDuU59u2VYs.kgkwt8qIXLC_97svZi9YRt6gZ..Dwv_8zVPB9B4WHoubj5pfhLem0j1RHG4zqoOu_RF7wy0TTMVSeLr46cr_UYaOf9vr.26jjc0.sATgx3pKjthdW0UkvpEw1wYfJkxK8lc8F6Z31UoGUDRQVSZDMXyNsqTiZZGUk2rURdc8Fhh8OKCyyCEcVix5QT7N5bWkBotpjDbTmxT7x5APJfBKLnEefn7Ti0HWDFxflbEKXFEvm1DnknweRJXyEFitcvfoel6NqQpNh8wREivIctg2mGd4YrlcBm28FzpWJbE5kcfdJA9AzBADswqjvfXeqimd1ptAkS2Gzwe5Uw1s0BFA2D5FNGQF0aq54axWoesn_5xGvUPRV8WV7wjZuhctYYxPWr78mzddN9aD.HTTZ6ijrAX5XpWqBQr4zhnz_2qhewPiBaII2YSTh1tomY2Pfz9GRuogs4KSMgusz.8wVYJT4SB5c1cXwX7hrMRPOTgwlh90AVH7JteyPX0yC8dyHTwUGCeG9WY2IUVs6lrZiTQ19kkhoEmwpfC6flyjq34pt4\\',mdrd: \\'RY98ccGkwCBBZsdXup3WlEkO5jBtGdY3TR7Vn0L7fOw-1755828773-1.2.1.1-vwZ2H1132trMDFryMcZ3NU4CuGgrXCFlHh4L.0PWk8ywz1h.qGLcP7HzwmH6SNWjO3nzrQZ3HEAErPTmlYUweR0iFrqXUCLquybICbZrjvny42sO71s2q_ULkhDcLd50hd10wbzGxttxHaGPKcaO25Gti1VMOMVcPEh7LhFKuk5A808NiuYN4QU4zBpEDWV.Fnfe_HGQfffKHX8h7c91L0.rE.R8V43bYzzRWEzS0dgbXgxRUyg4vGvOdBBSxTh1fkwFtAUt57IvDhUKh91FK9NMieWuJSkJQZJuiDfHQ02.sXgwOuBpomU1cm6keBoDx6mxj.caL9EG85iozkhzoUt1dwqMCrtZswo6ci2L5wuN7JMIXxuYhASFoAordFcfveR4StnG70WKvxLh_.6nacQNWqXfv7YYzhomYrDM2HQonUCqNyaDG76uiBYsSOS60QBiPGhzONp9RmtPWf2ZMPrgcVHWcKDtccZ8cSfuTlr84MzlJhAykPIhI_Vmwul9SqelIaZVnw3DR.Sch7b4iqtjJMN8hP_E1aflRFe5G8wLodOsV0kZVGjNhgj7ABdNFcQyxlZH2E_4YXDSgNM6wXymIWBA0C9cPAQDBW8XCceYyStIcawu0DPlrD0y4Oe7PNlJkBZDoWS_BewgBJCX_HaiIWNyPC91kZz3xkr0ERorUlDwKTXXRmrD02eYoZ5NsTF7j9YqOTnXKT1eNTwEez18ALN7OgJ7OJTfeho.PyiFFTFDjSZYS7tk3OG2dKdAEDKfWrBfsrhSNwUVoUXxaJ2Zf7evLOVd6RCJHkKUSAp1tbRS24Mem2h.CMlUWAl_RHxz8amXeTzvsCe84beAxtrdVLiOq_BksWQHK07QxcWqUmtvBLGCZmajmnYndXPY06cpLkjtttd7T1q3AAe3jcqX8z.mjDc9ZN2DoqUU5SCoSDp5r2bkLa1_CoGZzbaHpnhS16CJGM5MtDSZTczVajvKh_gPh0ZpJw1NHPNll4nPpN2oUXCTRs2HKx68_Dfp7svBJfkl5wgdhtI9SRizLngWXnAwawvxX5t_zmEbOl9A4XGKnRRUdL3au15NYYHYyexIyhjKQJNrSUl2NX8Zbzrrtkk5S6Ymcc0GeFsJ3axUjswlotJ5_WXMAUMePZXiwEe0ZG.BzxxQTzPKMgKI.Fk.v1ms2SaNjfBVdji6f0wcCWFPpIem3F_ZagL46R1kF1HovVYqgIAAISe1Y7Lziwa4d4Ioe2l.b6ntbBl337VbDp_tC5X3t_yNJ3GmUYZXIloWuTCok7wqfaxxe.kH4DtWEDG0GYAr4MJTYOoWXn9YUpQCscslDLx9dUiLP4OpfJxyLKg5HAVWHZ6OxbHTB5VKAQ1nXxaPePhQMo7NO6eOJYzbs2g91Xhxubhx473g7Sk_oM1TR.lqaKutakzfQjud4mQ0TuOigtjncP9x9RSBxCrN3q1N.GNu24ILKAfFCnkx_WuxLtrQa1SchfAgocqNJ7O_WOD7G8YIO8ApbbSJTpqTxDYB_tOT2t31kuMP5s5Be_dV9xvoc_CUuqap8pFmbRsINVlGSj_C1yaYcRJsVD7sqvb6KCHqsmlhrezKwXfxOaAe5.nC2g4hQbuGnVlSSD.4IQhnSPLtR7wfZv.u23WAbh.MSRmf1IA_0_dX5UTUD6NUDnbLtbg4kRKg0rD2PqhFZIE2YnMdcPaKvn7SQpjjf99aE96Mf2k6OwTUdXN9m_83XgNVhGizk_y5ZIq2gKEvSajK4lhtsMSX9x0EEM61ATnHxZyEvMaiz.CI1D2M0QUYZUiNCoiE6aY5WZpoZTMhx53pUWRFH5VVx2x9l2vPhcPPpt04l7UEQl8JPxxvSptfynl8m_0KB0oE_0UuGbzeYFRnjVNa4AvOIHxRET1tC0eI5waKuwSKRa0ZUFRbhyBt0T8mOqdTr6lJKluocLm3MGMrO9ZBUWxs3lHyWShNC4RwLMVc7mbIDneDYV0TFaQt9OMN4C8vgR3.M8V3U12uan20iZgwSAQs1QiBPQuXobQEUdMAfdFrDOOU6fS_ltj0N0TrccLXY6XeV3aZO3fr9T.R1vrHkdvy4fe_el2Oipf7sPGI8z6dTqGJ9QCe3x7uBN2XsI8V9hwdWuoyGoKgTGXrTCMRvaxNi0VfqedFXZeCVFmjTI3pQ.ObepWviA4vi3Qw1HYA_VSc8U8c7Duf.dNI9YZrseXS8QKh46vdXj7el3iZvV7b.8tKkNVWxITGgnTer1NhR98kYLJaJu6sdZCAYH4C0tkDnrQ\\',};var a = document.createElement(\\'script\\');a.src = \\'/cdn-cgi/challenge-platform/h/b/orchestrate/chl_page/v1?ray=972ed90a39587c77\\';window._cf_chl_opt.cOgUHash = location.hash === \\'\\' && location.href.indexOf(\\'#\\') !== -1 ? \\'#\\' : location.hash;window._cf_chl_opt.cOgUQuery = location.search === \\'\\' && location.href.slice(0, location.href.length - window._cf_chl_opt.cOgUHash.length).indexOf(\\'?\\') !== -1 ? \\'?\\' : location.search;if (window.history && window.history.replaceState) {var ogU = location.pathname + window._cf_chl_opt.cOgUQuery + window._cf_chl_opt.cOgUHash;history.replaceState(null, null,\"\\\\/en\\\\/comps\\\\/9\\\\/2021-2022\\\\/2021-2022-Premier-League-Stats?__cf_chl_rt_tk=ButBsdOm8Ur0GeuBQ_ni8mWVD084Y4n_L6b7KNtMd1w-1755828773-1.0.1.1-l0tzbyu5xsw707dRxNiQIk2KmrcliIUdd.LsED7fBBA\"+ window._cf_chl_opt.cOgUHash);a.onload = function() {history.replaceState(null, null, ogU);}}document.getElementsByTagName(\\'head\\')[0].appendChild(a);}());</script></body></html>'"
      ]
     },
     "execution_count": 50,
     "metadata": {},
     "output_type": "execute_result"
    }
   ],
   "source": [
    "data.text"
   ]
  },
  {
   "cell_type": "code",
   "execution_count": 51,
   "id": "8ef03ead",
   "metadata": {},
   "outputs": [],
   "source": [
    "# select table of standings to get anchor tags for each team\n",
    "# argument for soup.select comes from html tag: <table class=\"stats_table\">\n",
    "first_table = soup.find('table')"
   ]
  },
  {
   "cell_type": "code",
   "execution_count": 52,
   "id": "0049bfbb",
   "metadata": {},
   "outputs": [
    {
     "name": "stdout",
     "output_type": "stream",
     "text": [
      "None\n"
     ]
    }
   ],
   "source": [
    "print(first_table)"
   ]
  }
 ],
 "metadata": {
  "kernelspec": {
   "display_name": "Python 3",
   "language": "python",
   "name": "python3"
  },
  "language_info": {
   "codemirror_mode": {
    "name": "ipython",
    "version": 3
   },
   "file_extension": ".py",
   "mimetype": "text/x-python",
   "name": "python",
   "nbconvert_exporter": "python",
   "pygments_lexer": "ipython3",
   "version": "3.12.7"
  }
 },
 "nbformat": 4,
 "nbformat_minor": 5
}
