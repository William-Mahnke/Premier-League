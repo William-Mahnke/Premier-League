{
 "cells": [
  {
   "cell_type": "markdown",
   "id": "e4ab5d61",
   "metadata": {},
   "source": [
    "This file is for scraping season data from FBRef.com to make dataframes to be used in `prediction.ipynb` to make match winner predictions"
   ]
  },
  {
   "cell_type": "code",
   "execution_count": null,
   "id": "1046a2ae",
   "metadata": {},
   "outputs": [
    {
     "ename": "ModuleNotFoundError",
     "evalue": "No module named 'BeautifulSoup'",
     "output_type": "error",
     "traceback": [
      "\u001b[0;31m---------------------------------------------------------------------------\u001b[0m",
      "\u001b[0;31mModuleNotFoundError\u001b[0m                       Traceback (most recent call last)",
      "Cell \u001b[0;32mIn[3], line 2\u001b[0m\n\u001b[1;32m      1\u001b[0m \u001b[38;5;28;01mimport\u001b[39;00m \u001b[38;5;21;01mrequests\u001b[39;00m\n\u001b[0;32m----> 2\u001b[0m \u001b[38;5;28;01mimport\u001b[39;00m \u001b[38;5;21;01mBeautifulSoup\u001b[39;00m\n",
      "\u001b[0;31mModuleNotFoundError\u001b[0m: No module named 'BeautifulSoup'"
     ]
    }
   ],
   "source": [
    "import requests\n",
    "from bs4 import BeautifulSoup"
   ]
  },
  {
   "cell_type": "code",
   "execution_count": 2,
   "id": "7f8cfe11",
   "metadata": {},
   "outputs": [],
   "source": [
    "standing_url = \"https://fbref.com/en/comps/9/2021-2022/2021-2022-Premier-League-Stats\""
   ]
  },
  {
   "cell_type": "code",
   "execution_count": 3,
   "id": "b9ccb5d9",
   "metadata": {},
   "outputs": [],
   "source": [
    "data = requests.get(standing_url)"
   ]
  },
  {
   "cell_type": "code",
   "execution_count": 4,
   "id": "b19b30fe",
   "metadata": {},
   "outputs": [
    {
     "data": {
      "text/plain": [
       "'<!DOCTYPE html><html lang=\"en-US\"><head><title>Just a moment...</title><meta http-equiv=\"Content-Type\" content=\"text/html; charset=UTF-8\"><meta http-equiv=\"X-UA-Compatible\" content=\"IE=Edge\"><meta name=\"robots\" content=\"noindex,nofollow\"><meta name=\"viewport\" content=\"width=device-width,initial-scale=1\"><style>*{box-sizing:border-box;margin:0;padding:0}html{line-height:1.15;-webkit-text-size-adjust:100%;color:#313131;font-family:system-ui,-apple-system,BlinkMacSystemFont,\"Segoe UI\",Roboto,\"Helvetica Neue\",Arial,\"Noto Sans\",sans-serif,\"Apple Color Emoji\",\"Segoe UI Emoji\",\"Segoe UI Symbol\",\"Noto Color Emoji\"}body{display:flex;flex-direction:column;height:100vh;min-height:100vh}.main-content{margin:8rem auto;padding-left:1.5rem;max-width:60rem}@media (width <= 720px){.main-content{margin-top:4rem}}.h2{line-height:2.25rem;font-size:1.5rem;font-weight:500}@media (width <= 720px){.h2{line-height:1.5rem;font-size:1.25rem}}#challenge-error-text{background-image:url(\"data:image/svg+xml;base64,PHN2ZyB4bWxucz0iaHR0cDovL3d3dy53My5vcmcvMjAwMC9zdmciIHdpZHRoPSIzMiIgaGVpZ2h0PSIzMiIgZmlsbD0ibm9uZSI+PHBhdGggZmlsbD0iI0IyMEYwMyIgZD0iTTE2IDNhMTMgMTMgMCAxIDAgMTMgMTNBMTMuMDE1IDEzLjAxNSAwIDAgMCAxNiAzbTAgMjRhMTEgMTEgMCAxIDEgMTEtMTEgMTEuMDEgMTEuMDEgMCAwIDEtMTEgMTEiLz48cGF0aCBmaWxsPSIjQjIwRjAzIiBkPSJNMTcuMDM4IDE4LjYxNUgxNC44N0wxNC41NjMgOS41aDIuNzgzem0tMS4wODQgMS40MjdxLjY2IDAgMS4wNTcuMzg4LjQwNy4zODkuNDA3Ljk5NCAwIC41OTYtLjQwNy45ODQtLjM5Ny4zOS0xLjA1Ny4zODktLjY1IDAtMS4wNTYtLjM4OS0uMzk4LS4zODktLjM5OC0uOTg0IDAtLjU5Ny4zOTgtLjk4NS40MDYtLjM5NyAxLjA1Ni0uMzk3Ii8+PC9zdmc+\");background-repeat:no-repeat;background-size:contain;padding-left:34px}@media (prefers-color-scheme: dark){body{background-color:#222;color:#d9d9d9}}</style><meta http-equiv=\"refresh\" content=\"360\"></head><body><div class=\"main-wrapper\" role=\"main\"><div class=\"main-content\"><noscript><div class=\"h2\"><span id=\"challenge-error-text\">Enable JavaScript and cookies to continue</span></div></noscript></div></div><script>(function(){window._cf_chl_opt = {cvId: \\'3\\',cZone: \\'fbref.com\\',cType: \\'managed\\',cRay: \\'972e9d136b0af7cf\\',cH: \\'gOfW2y174lQsEl9YOWz8iVXusehE5hZ4m29tilQKlN4-1755826317-1.2.1.1-Sem4M9dykYi6BlvxKbC6yEjEKXNS9rlFVoyYI0.M6exSyCHWr2rqG65GNi6Wbg.s\\',cUPMDTk:\"\\\\/en\\\\/comps\\\\/9\\\\/2021-2022\\\\/2021-2022-Premier-League-Stats?__cf_chl_tk=gEbPTZPBUjWVNpbYMYkc47bliPAnFDiFpxR8wd8i5Go-1755826317-1.0.1.1-8Ujnk.F6_Pe8YxrAFc47O3j2s.JZJW3itPITLT8SZB8\",cFPWv: \\'b\\',cITimeS: \\'1755826317\\',cTplC:0,cTplV:5,cTplB: \\'cf\\',fa:\"\\\\/en\\\\/comps\\\\/9\\\\/2021-2022\\\\/2021-2022-Premier-League-Stats?__cf_chl_f_tk=gEbPTZPBUjWVNpbYMYkc47bliPAnFDiFpxR8wd8i5Go-1755826317-1.0.1.1-8Ujnk.F6_Pe8YxrAFc47O3j2s.JZJW3itPITLT8SZB8\",md: \\'igvhkKABDolK11IvyMrGGe_RRp4rZe5qk00q6.kpsE4-1755826317-1.2.1.1-G7d8dDDKwTxlJP1ju8FC_m0ZGy651A81K19x9qpLdGOCZPNVpsBjxBf4fYj1UPgjGE9ZPn3KCDxyIsgKnnKYTyfpSf9KMgdEuaEYmwLROn11qZh7JzQAgnwSZ1qrZ2RcWLBgGhjseKCtxPjS83hifUVNju4xXks2xyM9I72eLNgP8jQafjWn.xXoCRY_6RFMmYBLVttN0b.WCzh2rZ09fpHO2wkv.6wPmH0PjKopjoxdNxI6O6PIZlbfcw007YEZKCyo7m.ifMUY884tnDMx0jINmARWpcAiAdglN3KxgpJvDxmKXGcmNNYh5SX8xlaic_QBw5i9knwjW3aYeVC3WVTRbmHCpUVXPymdDIWAtATcFh8rOOlCB9AIrmlwc6BiMuE5dH11Oe0BjmHlpPxfkWFLAXtELvwKKLGpZ8gppmCfpD5rFnugi96saEtY_UKUUzi5cURtGQaXWwzrHOhY4kISU50J_zStCeO3G6PtONmMDzNARAmF9mOecnLpIZzghVELEgB8pPn0oSx2Dp4mh6thdK_Y.sq4PoqlXcC43j6RMhSPvNBBoFwtTyx86zv2HnZCl9FKyjFoVQUgO.XDBc0vLC154C0N9qhL3g4iJeE.ZSyJhT5_p7RAcedlEDaNWkRolHUQ9TLJRuhOY5kW.xxmBmzE7H28XNtr.kdIfb0awV.x3NtDVfFePF7UgID_HP_wgbR.nRnVcnTEI_BcOY.B5maISKUz_rt0EoND6Y8Sqx2rTZpfKZ46pZD1qYTRMXqkPaPUuzEfbLKNkN2.bEaM3FwxTlIc._I8rYqCLtDRDcZjakrbLX47VhoiOdkQCeQkgFn1Z3ktYJqb3KDEFzKUH2LCxBbBW2ZDj1aWcGTV_AKtHlEHZsPRQ1Vc8fhZbWhb3WUr9znwgkBorVoWrciDFckTlp1m91uasxZfiHlG6mfa6oIRKWyniu.GXeCfR_l7uIVYRQMBKWIDe4o_o4xqGm4_mGnTcLCPc_xfONs\\',mdrd: \\'kKijYziDFkqMTlrPCg5E5tslYWk.S8U.B3xOPGAXotI-1755826317-1.2.1.1-RdiIbOUuifkJ8l3Gvo77Lq4ykuQ2m8YkfdZ6esVLZoEOOACedHG5HtDATxH5pGLDxOBE9jioPr6HMo7AVRn_.sE11IPPFyY8Ya6MbwGmKHA8aR7rPq0soIE_Ll7H2MHZiAdKN3l9NYGuvBiFD_m_DhouhBuLEc1jjV0H1Rhw0t771qYIU33h08SZG5_xJwIBJJIdp.yZTUuHNgjCSbOZ4mevAvg.dleenL5FzRNsHRdUvuBl1B9Ss5SCZ8dbsawClzFi0bV0fx16fPq5L8rqzvoyqzOgondyslDfBQSTArjz52SxE1iflSS7k4FizYygeoWA42z0Q3Nml_8tFmiQenRsZPLUv7FFcIdSRZKWSUTLnnjKWlxKvXbSxwZ9DD5HTi61eLJwlEW9E2m9lToCeQ.xPBqOBhcKkEDsjYQxOH0y0kkKjJ7.11g2DAEaD3eWrvsW7ekROBEScfytTBjwVG6.XxTJL4aLPj8UOF9CgggXhN3_AADQvlSiTWhi1hV.t9auN_e5WtHMEZTRU0DOlOYbjyBwLrb0Xw.TntXxU.ypoZwp5pATyHcjZUaRRmZ9MU5.tYGzHRMFwDZaQuDGUwxYt.h1aYk.Sc48iTthrU0RR.7zoUEzltDpzNNAR3ApRoZuRvonTn7GkQrGMJpLXFSbN98y8I1ZAUAX5L0MFWchi5ozxNKOr1Yf5pwXf9d.XukNia2BmjM9ystO2lahNe7wEz2SklkW6SetbicVlSN7lCkFVwbQgV6zTrWbAP6FIu4I4fywEhOVJDBm6sJgkg5QB1FpDfROeUDtZAJvVugWUePKBlDzgV9EjoHiJKRfx1V1i0EZIZQ0i3zzi3o3LUxY6RGGOqhPtppatjf5h0YJJmC5N5y8IFV27JE__XVoVDxfWVonKCw_96H_v67JfFm6cDCWvnUOfW6uRb9QSGv6wf_VyYSy8kOdfCzIc_IO8YocW7dwnF3_g4.9X824cG3A2PLKnZxh5ZtvxuZb_GSX9xbYhmFFfL5SWb4mIDSb6w.hPPPCVLQ4zV4YxT3ejUvYJtEL8fqNkByl6VrKlavcAuIE3crxT15hgGtg9zOLAQRbUbD7OlEudyF9knxivFgnebQwsH7d5dnA1.X7AHhAHHmqOBkDskcVm1A5JH4XM1uPNV22lLlF.R7wrxOMh_SMaTsjZjxNq7GcYxgRdKfkX6Qtbs7Rb1tW_J_FCLU.2LTrtG93MnOSFhW2ie3TCS.gn6grd83I46g1gm49LH6whEgjApObilc1Kg1mwBZNVxHt0AyxHpSsqLd77nohcaLR_5TAbTEuB67EaGQjSGXR3gMOA7nZhH5NtT_kFT4VFM7dCchYqlrTWtEKRtvuCd6xcAdDbVMTbaYYMxj41ug6BiWlvjaEtacoBok8ur8ymwdYt0lpjv.4LyWhvGUSgsUDiXAtTBXZfj8Lc_hkvRQopTXG5GAJbuBNYD8KFLdKM71fATH5VBK7mk2gtg354nOCRI3Br27Vu0TBSummCWbc8jlzM4byfTJQUAzOICevTvepp5qLC3mIOsJTYYHhKTJnAqeP7lj6Rm5vxxOF8221aen5lO5YrQehRV52__ujH_q0YzxMsQXYtPMIl.3Ak76pHlMAdQmZgK7M3X0IhBCZNpIMXRPMYMGOXgO1_QjzN2IYXBGpmHOajcwX.2Xx4fbwcxTKVB3oKA.D4_fCbYxR9xfsUWibXyGPXkJkfKTFkQbsvd3BuirYt2aK.8fwz7cMS3wMR5xS5uqobloWGh9shBIu1.KkLrgjCizkGXMFdd3Pb88u3HSqzkViM5.rKBxUVQ36hb1cUeK1ZhaVBHX9aRjBEVRTUIgkavoZCZDrgzP2aPZxCJ_hRcdqH2DYLZscbE7XxQITcxd1MbvlclOF3g5CMSDUIfyPMl2Z5_Xx_6Rb3Jv_.dIQM8u_zoU07kBdM6IC1F4Usg2x7YAUgEDesdx8o6rcvxDm_Zip2xSNbnAbmpoYIQWn56g3Me_zJdLXSUoo8WEbmY9Gcf3CMkLB0WTBTUDzNu7CcEpRgMU1GpY00q8iqtW.h__TihNltcM4zuEbC6axZHfPqIRAn65WDqmNOm4sA5QmzJJ6ZV9fyFsl83dVlr.It2h3DjGzXcTgD3CA4yHtXRcnukvs2sy_KCf4X6_1ReMQ9jPTpwpf8BATtkqnDJeJ8x.7AFrwjw1huvOfsnRd1URlELBy_BOqNtBdiYYgQvYphaJhTc1X9KoyBvKcsAi641J7KgJkIF6qRsmRg8JteVgTllUtbys\\',};var a = document.createElement(\\'script\\');a.src = \\'/cdn-cgi/challenge-platform/h/b/orchestrate/chl_page/v1?ray=972e9d136b0af7cf\\';window._cf_chl_opt.cOgUHash = location.hash === \\'\\' && location.href.indexOf(\\'#\\') !== -1 ? \\'#\\' : location.hash;window._cf_chl_opt.cOgUQuery = location.search === \\'\\' && location.href.slice(0, location.href.length - window._cf_chl_opt.cOgUHash.length).indexOf(\\'?\\') !== -1 ? \\'?\\' : location.search;if (window.history && window.history.replaceState) {var ogU = location.pathname + window._cf_chl_opt.cOgUQuery + window._cf_chl_opt.cOgUHash;history.replaceState(null, null,\"\\\\/en\\\\/comps\\\\/9\\\\/2021-2022\\\\/2021-2022-Premier-League-Stats?__cf_chl_rt_tk=gEbPTZPBUjWVNpbYMYkc47bliPAnFDiFpxR8wd8i5Go-1755826317-1.0.1.1-8Ujnk.F6_Pe8YxrAFc47O3j2s.JZJW3itPITLT8SZB8\"+ window._cf_chl_opt.cOgUHash);a.onload = function() {history.replaceState(null, null, ogU);}}document.getElementsByTagName(\\'head\\')[0].appendChild(a);}());</script></body></html>'"
      ]
     },
     "execution_count": 4,
     "metadata": {},
     "output_type": "execute_result"
    }
   ],
   "source": [
    "data.text"
   ]
  }
 ],
 "metadata": {
  "kernelspec": {
   "display_name": "Python 3",
   "language": "python",
   "name": "python3"
  },
  "language_info": {
   "codemirror_mode": {
    "name": "ipython",
    "version": 3
   },
   "file_extension": ".py",
   "mimetype": "text/x-python",
   "name": "python",
   "nbconvert_exporter": "python",
   "pygments_lexer": "ipython3",
   "version": "3.12.7"
  }
 },
 "nbformat": 4,
 "nbformat_minor": 5
}
